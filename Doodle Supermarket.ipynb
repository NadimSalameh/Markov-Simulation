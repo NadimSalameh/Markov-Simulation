{
 "cells": [
  {
   "cell_type": "code",
   "execution_count": 1,
   "id": "3687e3e8",
   "metadata": {},
   "outputs": [],
   "source": [
    "import pandas as pd\n",
    "import seaborn as sns\n",
    "import matplotlib.pyplot as plt\n",
    "import os\n",
    "import glob\n",
    "import warnings\n",
    "import numpy as np\n",
    "warnings.filterwarnings('ignore')\n"
   ]
  },
  {
   "cell_type": "code",
   "execution_count": 2,
   "id": "6e15be0d",
   "metadata": {},
   "outputs": [
    {
     "data": {
      "text/html": [
       "<div>\n",
       "<style scoped>\n",
       "    .dataframe tbody tr th:only-of-type {\n",
       "        vertical-align: middle;\n",
       "    }\n",
       "\n",
       "    .dataframe tbody tr th {\n",
       "        vertical-align: top;\n",
       "    }\n",
       "\n",
       "    .dataframe thead th {\n",
       "        text-align: right;\n",
       "    }\n",
       "</style>\n",
       "<table border=\"1\" class=\"dataframe\">\n",
       "  <thead>\n",
       "    <tr style=\"text-align: right;\">\n",
       "      <th></th>\n",
       "      <th>timestamp</th>\n",
       "      <th>customer_no</th>\n",
       "      <th>location</th>\n",
       "    </tr>\n",
       "  </thead>\n",
       "  <tbody>\n",
       "    <tr>\n",
       "      <th>1970-01-01 00:00:00.000000000</th>\n",
       "      <td>2019-09-03 07:02:00</td>\n",
       "      <td>1</td>\n",
       "      <td>fruit</td>\n",
       "    </tr>\n",
       "    <tr>\n",
       "      <th>1970-01-01 00:00:00.000000001</th>\n",
       "      <td>2019-09-03 07:02:00</td>\n",
       "      <td>2</td>\n",
       "      <td>drinks</td>\n",
       "    </tr>\n",
       "    <tr>\n",
       "      <th>1970-01-01 00:00:00.000000002</th>\n",
       "      <td>2019-09-03 07:03:00</td>\n",
       "      <td>3</td>\n",
       "      <td>dairy</td>\n",
       "    </tr>\n",
       "    <tr>\n",
       "      <th>1970-01-01 00:00:00.000000003</th>\n",
       "      <td>2019-09-03 07:05:00</td>\n",
       "      <td>1</td>\n",
       "      <td>drinks</td>\n",
       "    </tr>\n",
       "    <tr>\n",
       "      <th>1970-01-01 00:00:00.000000004</th>\n",
       "      <td>2019-09-03 07:06:00</td>\n",
       "      <td>4</td>\n",
       "      <td>dairy</td>\n",
       "    </tr>\n",
       "    <tr>\n",
       "      <th>...</th>\n",
       "      <td>...</td>\n",
       "      <td>...</td>\n",
       "      <td>...</td>\n",
       "    </tr>\n",
       "    <tr>\n",
       "      <th>1970-01-01 00:00:00.000005120</th>\n",
       "      <td>2019-09-06 21:50:00</td>\n",
       "      <td>1500</td>\n",
       "      <td>dairy</td>\n",
       "    </tr>\n",
       "    <tr>\n",
       "      <th>1970-01-01 00:00:00.000005121</th>\n",
       "      <td>2019-09-06 21:50:00</td>\n",
       "      <td>1507</td>\n",
       "      <td>checkout</td>\n",
       "    </tr>\n",
       "    <tr>\n",
       "      <th>1970-01-01 00:00:00.000005122</th>\n",
       "      <td>2019-09-06 21:50:00</td>\n",
       "      <td>1508</td>\n",
       "      <td>checkout</td>\n",
       "    </tr>\n",
       "    <tr>\n",
       "      <th>1970-01-01 00:00:00.000005123</th>\n",
       "      <td>2019-09-06 21:50:00</td>\n",
       "      <td>1509</td>\n",
       "      <td>drinks</td>\n",
       "    </tr>\n",
       "    <tr>\n",
       "      <th>1970-01-01 00:00:00.000005124</th>\n",
       "      <td>2019-09-06 21:50:00</td>\n",
       "      <td>1510</td>\n",
       "      <td>spices</td>\n",
       "    </tr>\n",
       "  </tbody>\n",
       "</table>\n",
       "<p>24877 rows × 3 columns</p>\n",
       "</div>"
      ],
      "text/plain": [
       "                                         timestamp  customer_no  location\n",
       "1970-01-01 00:00:00.000000000  2019-09-03 07:02:00            1     fruit\n",
       "1970-01-01 00:00:00.000000001  2019-09-03 07:02:00            2    drinks\n",
       "1970-01-01 00:00:00.000000002  2019-09-03 07:03:00            3     dairy\n",
       "1970-01-01 00:00:00.000000003  2019-09-03 07:05:00            1    drinks\n",
       "1970-01-01 00:00:00.000000004  2019-09-03 07:06:00            4     dairy\n",
       "...                                            ...          ...       ...\n",
       "1970-01-01 00:00:00.000005120  2019-09-06 21:50:00         1500     dairy\n",
       "1970-01-01 00:00:00.000005121  2019-09-06 21:50:00         1507  checkout\n",
       "1970-01-01 00:00:00.000005122  2019-09-06 21:50:00         1508  checkout\n",
       "1970-01-01 00:00:00.000005123  2019-09-06 21:50:00         1509    drinks\n",
       "1970-01-01 00:00:00.000005124  2019-09-06 21:50:00         1510    spices\n",
       "\n",
       "[24877 rows x 3 columns]"
      ]
     },
     "execution_count": 2,
     "metadata": {},
     "output_type": "execute_result"
    }
   ],
   "source": [
    "\n",
    "all_files = glob.glob(\"Data/*.csv\")\n",
    "df = pd.concat((pd.read_csv(f,sep=';') for f in all_files))\n",
    "df.index = pd.to_datetime(df.index)\n",
    "df"
   ]
  },
  {
   "cell_type": "code",
   "execution_count": 3,
   "id": "45a83ed8",
   "metadata": {
    "scrolled": true
   },
   "outputs": [
    {
     "name": "stdout",
     "output_type": "stream",
     "text": [
      "<class 'pandas.core.frame.DataFrame'>\n",
      "DatetimeIndex: 24877 entries, 1970-01-01 00:00:00 to 1970-01-01 00:00:00.000005124\n",
      "Data columns (total 3 columns):\n",
      " #   Column       Non-Null Count  Dtype \n",
      "---  ------       --------------  ----- \n",
      " 0   timestamp    24877 non-null  object\n",
      " 1   customer_no  24877 non-null  int64 \n",
      " 2   location     24877 non-null  object\n",
      "dtypes: int64(1), object(2)\n",
      "memory usage: 777.4+ KB\n"
     ]
    }
   ],
   "source": [
    "df.info()"
   ]
  },
  {
   "cell_type": "code",
   "execution_count": 4,
   "id": "01afd534",
   "metadata": {},
   "outputs": [],
   "source": [
    "df['timestamp']=pd.to_datetime(df['timestamp'])\n",
    "df['year']= df['timestamp'].dt.year\n",
    "df['month']= df['timestamp'].dt.month\n",
    "df['week']= df['timestamp'].dt.week\n",
    "df['weekday']= df['timestamp'].dt.weekday\n",
    "df['day']= df['timestamp'].dt.day\n",
    "df['hour']= df['timestamp'].dt.hour\n",
    "df['minutes']= df['timestamp'].dt.minute\n",
    "df['seconds']= df['timestamp'].dt.second\n",
    "\n",
    "\n",
    "df.loc[df[\"weekday\"] == 0, \"weekday\"] = 'monday'\n",
    "df.loc[df[\"weekday\"] == 1, \"weekday\"] = 'tuesday'\n",
    "df.loc[df[\"weekday\"] == 2, \"weekday\"] = 'wednesday'\n",
    "df.loc[df[\"weekday\"] == 3, \"weekday\"] = 'thursday'\n",
    "df.loc[df[\"weekday\"] == 4, \"weekday\"] = 'friday'\n",
    "\n",
    "df = df.sort_values(['timestamp'])"
   ]
  },
  {
   "cell_type": "code",
   "execution_count": 5,
   "id": "5254566e",
   "metadata": {},
   "outputs": [
    {
     "data": {
      "text/html": [
       "<div>\n",
       "<style scoped>\n",
       "    .dataframe tbody tr th:only-of-type {\n",
       "        vertical-align: middle;\n",
       "    }\n",
       "\n",
       "    .dataframe tbody tr th {\n",
       "        vertical-align: top;\n",
       "    }\n",
       "\n",
       "    .dataframe thead th {\n",
       "        text-align: right;\n",
       "    }\n",
       "</style>\n",
       "<table border=\"1\" class=\"dataframe\">\n",
       "  <thead>\n",
       "    <tr style=\"text-align: right;\">\n",
       "      <th></th>\n",
       "      <th>timestamp</th>\n",
       "      <th>customer_no</th>\n",
       "      <th>location</th>\n",
       "      <th>year</th>\n",
       "      <th>month</th>\n",
       "      <th>week</th>\n",
       "      <th>weekday</th>\n",
       "      <th>day</th>\n",
       "      <th>hour</th>\n",
       "      <th>minutes</th>\n",
       "      <th>seconds</th>\n",
       "    </tr>\n",
       "  </thead>\n",
       "  <tbody>\n",
       "    <tr>\n",
       "      <th>1970-01-01 00:00:00.000000001</th>\n",
       "      <td>2019-09-02 07:03:00</td>\n",
       "      <td>2</td>\n",
       "      <td>dairy</td>\n",
       "      <td>2019</td>\n",
       "      <td>9</td>\n",
       "      <td>36</td>\n",
       "      <td>monday</td>\n",
       "      <td>2</td>\n",
       "      <td>7</td>\n",
       "      <td>3</td>\n",
       "      <td>0</td>\n",
       "    </tr>\n",
       "    <tr>\n",
       "      <th>1970-01-01 00:00:00.000000000</th>\n",
       "      <td>2019-09-02 07:03:00</td>\n",
       "      <td>1</td>\n",
       "      <td>dairy</td>\n",
       "      <td>2019</td>\n",
       "      <td>9</td>\n",
       "      <td>36</td>\n",
       "      <td>monday</td>\n",
       "      <td>2</td>\n",
       "      <td>7</td>\n",
       "      <td>3</td>\n",
       "      <td>0</td>\n",
       "    </tr>\n",
       "    <tr>\n",
       "      <th>1970-01-01 00:00:00.000000002</th>\n",
       "      <td>2019-09-02 07:04:00</td>\n",
       "      <td>3</td>\n",
       "      <td>dairy</td>\n",
       "      <td>2019</td>\n",
       "      <td>9</td>\n",
       "      <td>36</td>\n",
       "      <td>monday</td>\n",
       "      <td>2</td>\n",
       "      <td>7</td>\n",
       "      <td>4</td>\n",
       "      <td>0</td>\n",
       "    </tr>\n",
       "    <tr>\n",
       "      <th>1970-01-01 00:00:00.000000007</th>\n",
       "      <td>2019-09-02 07:04:00</td>\n",
       "      <td>8</td>\n",
       "      <td>fruit</td>\n",
       "      <td>2019</td>\n",
       "      <td>9</td>\n",
       "      <td>36</td>\n",
       "      <td>monday</td>\n",
       "      <td>2</td>\n",
       "      <td>7</td>\n",
       "      <td>4</td>\n",
       "      <td>0</td>\n",
       "    </tr>\n",
       "    <tr>\n",
       "      <th>1970-01-01 00:00:00.000000003</th>\n",
       "      <td>2019-09-02 07:04:00</td>\n",
       "      <td>4</td>\n",
       "      <td>dairy</td>\n",
       "      <td>2019</td>\n",
       "      <td>9</td>\n",
       "      <td>36</td>\n",
       "      <td>monday</td>\n",
       "      <td>2</td>\n",
       "      <td>7</td>\n",
       "      <td>4</td>\n",
       "      <td>0</td>\n",
       "    </tr>\n",
       "    <tr>\n",
       "      <th>...</th>\n",
       "      <td>...</td>\n",
       "      <td>...</td>\n",
       "      <td>...</td>\n",
       "      <td>...</td>\n",
       "      <td>...</td>\n",
       "      <td>...</td>\n",
       "      <td>...</td>\n",
       "      <td>...</td>\n",
       "      <td>...</td>\n",
       "      <td>...</td>\n",
       "      <td>...</td>\n",
       "    </tr>\n",
       "    <tr>\n",
       "      <th>1970-01-01 00:00:00.000005121</th>\n",
       "      <td>2019-09-06 21:50:00</td>\n",
       "      <td>1507</td>\n",
       "      <td>checkout</td>\n",
       "      <td>2019</td>\n",
       "      <td>9</td>\n",
       "      <td>36</td>\n",
       "      <td>friday</td>\n",
       "      <td>6</td>\n",
       "      <td>21</td>\n",
       "      <td>50</td>\n",
       "      <td>0</td>\n",
       "    </tr>\n",
       "    <tr>\n",
       "      <th>1970-01-01 00:00:00.000005123</th>\n",
       "      <td>2019-09-06 21:50:00</td>\n",
       "      <td>1509</td>\n",
       "      <td>drinks</td>\n",
       "      <td>2019</td>\n",
       "      <td>9</td>\n",
       "      <td>36</td>\n",
       "      <td>friday</td>\n",
       "      <td>6</td>\n",
       "      <td>21</td>\n",
       "      <td>50</td>\n",
       "      <td>0</td>\n",
       "    </tr>\n",
       "    <tr>\n",
       "      <th>1970-01-01 00:00:00.000005119</th>\n",
       "      <td>2019-09-06 21:50:00</td>\n",
       "      <td>1496</td>\n",
       "      <td>fruit</td>\n",
       "      <td>2019</td>\n",
       "      <td>9</td>\n",
       "      <td>36</td>\n",
       "      <td>friday</td>\n",
       "      <td>6</td>\n",
       "      <td>21</td>\n",
       "      <td>50</td>\n",
       "      <td>0</td>\n",
       "    </tr>\n",
       "    <tr>\n",
       "      <th>1970-01-01 00:00:00.000005120</th>\n",
       "      <td>2019-09-06 21:50:00</td>\n",
       "      <td>1500</td>\n",
       "      <td>dairy</td>\n",
       "      <td>2019</td>\n",
       "      <td>9</td>\n",
       "      <td>36</td>\n",
       "      <td>friday</td>\n",
       "      <td>6</td>\n",
       "      <td>21</td>\n",
       "      <td>50</td>\n",
       "      <td>0</td>\n",
       "    </tr>\n",
       "    <tr>\n",
       "      <th>1970-01-01 00:00:00.000005124</th>\n",
       "      <td>2019-09-06 21:50:00</td>\n",
       "      <td>1510</td>\n",
       "      <td>spices</td>\n",
       "      <td>2019</td>\n",
       "      <td>9</td>\n",
       "      <td>36</td>\n",
       "      <td>friday</td>\n",
       "      <td>6</td>\n",
       "      <td>21</td>\n",
       "      <td>50</td>\n",
       "      <td>0</td>\n",
       "    </tr>\n",
       "  </tbody>\n",
       "</table>\n",
       "<p>24877 rows × 11 columns</p>\n",
       "</div>"
      ],
      "text/plain": [
       "                                        timestamp  customer_no  location  \\\n",
       "1970-01-01 00:00:00.000000001 2019-09-02 07:03:00            2     dairy   \n",
       "1970-01-01 00:00:00.000000000 2019-09-02 07:03:00            1     dairy   \n",
       "1970-01-01 00:00:00.000000002 2019-09-02 07:04:00            3     dairy   \n",
       "1970-01-01 00:00:00.000000007 2019-09-02 07:04:00            8     fruit   \n",
       "1970-01-01 00:00:00.000000003 2019-09-02 07:04:00            4     dairy   \n",
       "...                                           ...          ...       ...   \n",
       "1970-01-01 00:00:00.000005121 2019-09-06 21:50:00         1507  checkout   \n",
       "1970-01-01 00:00:00.000005123 2019-09-06 21:50:00         1509    drinks   \n",
       "1970-01-01 00:00:00.000005119 2019-09-06 21:50:00         1496     fruit   \n",
       "1970-01-01 00:00:00.000005120 2019-09-06 21:50:00         1500     dairy   \n",
       "1970-01-01 00:00:00.000005124 2019-09-06 21:50:00         1510    spices   \n",
       "\n",
       "                               year  month  week weekday  day  hour  minutes  \\\n",
       "1970-01-01 00:00:00.000000001  2019      9    36  monday    2     7        3   \n",
       "1970-01-01 00:00:00.000000000  2019      9    36  monday    2     7        3   \n",
       "1970-01-01 00:00:00.000000002  2019      9    36  monday    2     7        4   \n",
       "1970-01-01 00:00:00.000000007  2019      9    36  monday    2     7        4   \n",
       "1970-01-01 00:00:00.000000003  2019      9    36  monday    2     7        4   \n",
       "...                             ...    ...   ...     ...  ...   ...      ...   \n",
       "1970-01-01 00:00:00.000005121  2019      9    36  friday    6    21       50   \n",
       "1970-01-01 00:00:00.000005123  2019      9    36  friday    6    21       50   \n",
       "1970-01-01 00:00:00.000005119  2019      9    36  friday    6    21       50   \n",
       "1970-01-01 00:00:00.000005120  2019      9    36  friday    6    21       50   \n",
       "1970-01-01 00:00:00.000005124  2019      9    36  friday    6    21       50   \n",
       "\n",
       "                               seconds  \n",
       "1970-01-01 00:00:00.000000001        0  \n",
       "1970-01-01 00:00:00.000000000        0  \n",
       "1970-01-01 00:00:00.000000002        0  \n",
       "1970-01-01 00:00:00.000000007        0  \n",
       "1970-01-01 00:00:00.000000003        0  \n",
       "...                                ...  \n",
       "1970-01-01 00:00:00.000005121        0  \n",
       "1970-01-01 00:00:00.000005123        0  \n",
       "1970-01-01 00:00:00.000005119        0  \n",
       "1970-01-01 00:00:00.000005120        0  \n",
       "1970-01-01 00:00:00.000005124        0  \n",
       "\n",
       "[24877 rows x 11 columns]"
      ]
     },
     "execution_count": 5,
     "metadata": {},
     "output_type": "execute_result"
    }
   ],
   "source": [
    "df"
   ]
  },
  {
   "cell_type": "code",
   "execution_count": null,
   "id": "15916eb2",
   "metadata": {},
   "outputs": [],
   "source": []
  },
  {
   "cell_type": "markdown",
   "id": "aa8f9d6a",
   "metadata": {},
   "source": [
    "**Calculate the total number of customers in each section**"
   ]
  },
  {
   "cell_type": "code",
   "execution_count": 34,
   "id": "772e4465",
   "metadata": {},
   "outputs": [
    {
     "data": {
      "text/html": [
       "<div>\n",
       "<style scoped>\n",
       "    .dataframe tbody tr th:only-of-type {\n",
       "        vertical-align: middle;\n",
       "    }\n",
       "\n",
       "    .dataframe tbody tr th {\n",
       "        vertical-align: top;\n",
       "    }\n",
       "\n",
       "    .dataframe thead th {\n",
       "        text-align: right;\n",
       "    }\n",
       "</style>\n",
       "<table border=\"1\" class=\"dataframe\">\n",
       "  <thead>\n",
       "    <tr style=\"text-align: right;\">\n",
       "      <th></th>\n",
       "      <th>timestamp</th>\n",
       "      <th>customer_no</th>\n",
       "      <th>year</th>\n",
       "      <th>month</th>\n",
       "      <th>week</th>\n",
       "      <th>weekday</th>\n",
       "      <th>day</th>\n",
       "      <th>hour</th>\n",
       "      <th>minutes</th>\n",
       "      <th>seconds</th>\n",
       "    </tr>\n",
       "    <tr>\n",
       "      <th>location</th>\n",
       "      <th></th>\n",
       "      <th></th>\n",
       "      <th></th>\n",
       "      <th></th>\n",
       "      <th></th>\n",
       "      <th></th>\n",
       "      <th></th>\n",
       "      <th></th>\n",
       "      <th></th>\n",
       "      <th></th>\n",
       "    </tr>\n",
       "  </thead>\n",
       "  <tbody>\n",
       "    <tr>\n",
       "      <th>checkout</th>\n",
       "      <td>7417</td>\n",
       "      <td>7417</td>\n",
       "      <td>7417</td>\n",
       "      <td>7417</td>\n",
       "      <td>7417</td>\n",
       "      <td>7417</td>\n",
       "      <td>7417</td>\n",
       "      <td>7417</td>\n",
       "      <td>7417</td>\n",
       "      <td>7417</td>\n",
       "    </tr>\n",
       "    <tr>\n",
       "      <th>dairy</th>\n",
       "      <td>4679</td>\n",
       "      <td>4679</td>\n",
       "      <td>4679</td>\n",
       "      <td>4679</td>\n",
       "      <td>4679</td>\n",
       "      <td>4679</td>\n",
       "      <td>4679</td>\n",
       "      <td>4679</td>\n",
       "      <td>4679</td>\n",
       "      <td>4679</td>\n",
       "    </tr>\n",
       "    <tr>\n",
       "      <th>drinks</th>\n",
       "      <td>3905</td>\n",
       "      <td>3905</td>\n",
       "      <td>3905</td>\n",
       "      <td>3905</td>\n",
       "      <td>3905</td>\n",
       "      <td>3905</td>\n",
       "      <td>3905</td>\n",
       "      <td>3905</td>\n",
       "      <td>3905</td>\n",
       "      <td>3905</td>\n",
       "    </tr>\n",
       "    <tr>\n",
       "      <th>fruit</th>\n",
       "      <td>5122</td>\n",
       "      <td>5122</td>\n",
       "      <td>5122</td>\n",
       "      <td>5122</td>\n",
       "      <td>5122</td>\n",
       "      <td>5122</td>\n",
       "      <td>5122</td>\n",
       "      <td>5122</td>\n",
       "      <td>5122</td>\n",
       "      <td>5122</td>\n",
       "    </tr>\n",
       "    <tr>\n",
       "      <th>spices</th>\n",
       "      <td>3754</td>\n",
       "      <td>3754</td>\n",
       "      <td>3754</td>\n",
       "      <td>3754</td>\n",
       "      <td>3754</td>\n",
       "      <td>3754</td>\n",
       "      <td>3754</td>\n",
       "      <td>3754</td>\n",
       "      <td>3754</td>\n",
       "      <td>3754</td>\n",
       "    </tr>\n",
       "  </tbody>\n",
       "</table>\n",
       "</div>"
      ],
      "text/plain": [
       "          timestamp  customer_no  year  month  week  weekday   day  hour  \\\n",
       "location                                                                   \n",
       "checkout       7417         7417  7417   7417  7417     7417  7417  7417   \n",
       "dairy          4679         4679  4679   4679  4679     4679  4679  4679   \n",
       "drinks         3905         3905  3905   3905  3905     3905  3905  3905   \n",
       "fruit          5122         5122  5122   5122  5122     5122  5122  5122   \n",
       "spices         3754         3754  3754   3754  3754     3754  3754  3754   \n",
       "\n",
       "          minutes  seconds  \n",
       "location                    \n",
       "checkout     7417     7417  \n",
       "dairy        4679     4679  \n",
       "drinks       3905     3905  \n",
       "fruit        5122     5122  \n",
       "spices       3754     3754  "
      ]
     },
     "execution_count": 34,
     "metadata": {},
     "output_type": "execute_result"
    }
   ],
   "source": []
  },
  {
   "cell_type": "code",
   "execution_count": null,
   "id": "9a6481bc",
   "metadata": {},
   "outputs": [],
   "source": []
  },
  {
   "cell_type": "code",
   "execution_count": 6,
   "id": "4e19a910",
   "metadata": {},
   "outputs": [],
   "source": [
    "total_customers = pd.DataFrame(df.groupby(['timestamp','location','weekday'])['customer_no'].count()).reset_index()"
   ]
  },
  {
   "cell_type": "code",
   "execution_count": 7,
   "id": "037c9f2c",
   "metadata": {},
   "outputs": [
    {
     "data": {
      "text/html": [
       "<div>\n",
       "<style scoped>\n",
       "    .dataframe tbody tr th:only-of-type {\n",
       "        vertical-align: middle;\n",
       "    }\n",
       "\n",
       "    .dataframe tbody tr th {\n",
       "        vertical-align: top;\n",
       "    }\n",
       "\n",
       "    .dataframe thead th {\n",
       "        text-align: right;\n",
       "    }\n",
       "</style>\n",
       "<table border=\"1\" class=\"dataframe\">\n",
       "  <thead>\n",
       "    <tr style=\"text-align: right;\">\n",
       "      <th></th>\n",
       "      <th>timestamp</th>\n",
       "      <th>location</th>\n",
       "      <th>weekday</th>\n",
       "      <th>customer_no</th>\n",
       "    </tr>\n",
       "  </thead>\n",
       "  <tbody>\n",
       "    <tr>\n",
       "      <th>0</th>\n",
       "      <td>2019-09-02 07:03:00</td>\n",
       "      <td>dairy</td>\n",
       "      <td>monday</td>\n",
       "      <td>2</td>\n",
       "    </tr>\n",
       "    <tr>\n",
       "      <th>1</th>\n",
       "      <td>2019-09-02 07:04:00</td>\n",
       "      <td>dairy</td>\n",
       "      <td>monday</td>\n",
       "      <td>2</td>\n",
       "    </tr>\n",
       "    <tr>\n",
       "      <th>2</th>\n",
       "      <td>2019-09-02 07:04:00</td>\n",
       "      <td>fruit</td>\n",
       "      <td>monday</td>\n",
       "      <td>1</td>\n",
       "    </tr>\n",
       "    <tr>\n",
       "      <th>3</th>\n",
       "      <td>2019-09-02 07:04:00</td>\n",
       "      <td>spices</td>\n",
       "      <td>monday</td>\n",
       "      <td>3</td>\n",
       "    </tr>\n",
       "    <tr>\n",
       "      <th>4</th>\n",
       "      <td>2019-09-02 07:05:00</td>\n",
       "      <td>checkout</td>\n",
       "      <td>monday</td>\n",
       "      <td>2</td>\n",
       "    </tr>\n",
       "    <tr>\n",
       "      <th>...</th>\n",
       "      <td>...</td>\n",
       "      <td>...</td>\n",
       "      <td>...</td>\n",
       "      <td>...</td>\n",
       "    </tr>\n",
       "    <tr>\n",
       "      <th>13834</th>\n",
       "      <td>2019-09-06 21:50:00</td>\n",
       "      <td>checkout</td>\n",
       "      <td>friday</td>\n",
       "      <td>2</td>\n",
       "    </tr>\n",
       "    <tr>\n",
       "      <th>13835</th>\n",
       "      <td>2019-09-06 21:50:00</td>\n",
       "      <td>dairy</td>\n",
       "      <td>friday</td>\n",
       "      <td>1</td>\n",
       "    </tr>\n",
       "    <tr>\n",
       "      <th>13836</th>\n",
       "      <td>2019-09-06 21:50:00</td>\n",
       "      <td>drinks</td>\n",
       "      <td>friday</td>\n",
       "      <td>1</td>\n",
       "    </tr>\n",
       "    <tr>\n",
       "      <th>13837</th>\n",
       "      <td>2019-09-06 21:50:00</td>\n",
       "      <td>fruit</td>\n",
       "      <td>friday</td>\n",
       "      <td>1</td>\n",
       "    </tr>\n",
       "    <tr>\n",
       "      <th>13838</th>\n",
       "      <td>2019-09-06 21:50:00</td>\n",
       "      <td>spices</td>\n",
       "      <td>friday</td>\n",
       "      <td>1</td>\n",
       "    </tr>\n",
       "  </tbody>\n",
       "</table>\n",
       "<p>13839 rows × 4 columns</p>\n",
       "</div>"
      ],
      "text/plain": [
       "                timestamp  location weekday  customer_no\n",
       "0     2019-09-02 07:03:00     dairy  monday            2\n",
       "1     2019-09-02 07:04:00     dairy  monday            2\n",
       "2     2019-09-02 07:04:00     fruit  monday            1\n",
       "3     2019-09-02 07:04:00    spices  monday            3\n",
       "4     2019-09-02 07:05:00  checkout  monday            2\n",
       "...                   ...       ...     ...          ...\n",
       "13834 2019-09-06 21:50:00  checkout  friday            2\n",
       "13835 2019-09-06 21:50:00     dairy  friday            1\n",
       "13836 2019-09-06 21:50:00    drinks  friday            1\n",
       "13837 2019-09-06 21:50:00     fruit  friday            1\n",
       "13838 2019-09-06 21:50:00    spices  friday            1\n",
       "\n",
       "[13839 rows x 4 columns]"
      ]
     },
     "execution_count": 7,
     "metadata": {},
     "output_type": "execute_result"
    }
   ],
   "source": [
    "total_customers"
   ]
  },
  {
   "cell_type": "code",
   "execution_count": 182,
   "id": "3673099d",
   "metadata": {},
   "outputs": [
    {
     "data": {
      "application/vnd.plotly.v1+json": {
       "config": {
        "plotlyServerURL": "https://plot.ly"
       },
       "data": [
        {
         "branchvalues": "total",
         "domain": {
          "x": [
           0,
           1
          ],
          "y": [
           0,
           1
          ]
         },
         "hovertemplate": "labels=%{label}<br>customer_no=%{value}<br>parent=%{parent}<br>id=%{id}<extra></extra>",
         "ids": [
          "checkout/friday",
          "dairy/friday",
          "drinks/friday",
          "fruit/friday",
          "spices/friday",
          "checkout/monday",
          "dairy/monday",
          "drinks/monday",
          "fruit/monday",
          "spices/monday",
          "checkout/thursday",
          "dairy/thursday",
          "drinks/thursday",
          "fruit/thursday",
          "spices/thursday",
          "checkout/tuesday",
          "dairy/tuesday",
          "drinks/tuesday",
          "fruit/tuesday",
          "spices/tuesday",
          "checkout/wednesday",
          "dairy/wednesday",
          "drinks/wednesday",
          "fruit/wednesday",
          "spices/wednesday",
          "checkout",
          "dairy",
          "drinks",
          "fruit",
          "spices"
         ],
         "labels": [
          "friday",
          "friday",
          "friday",
          "friday",
          "friday",
          "monday",
          "monday",
          "monday",
          "monday",
          "monday",
          "thursday",
          "thursday",
          "thursday",
          "thursday",
          "thursday",
          "tuesday",
          "tuesday",
          "tuesday",
          "tuesday",
          "tuesday",
          "wednesday",
          "wednesday",
          "wednesday",
          "wednesday",
          "wednesday",
          "checkout",
          "dairy",
          "drinks",
          "fruit",
          "spices"
         ],
         "name": "",
         "parents": [
          "checkout",
          "dairy",
          "drinks",
          "fruit",
          "spices",
          "checkout",
          "dairy",
          "drinks",
          "fruit",
          "spices",
          "checkout",
          "dairy",
          "drinks",
          "fruit",
          "spices",
          "checkout",
          "dairy",
          "drinks",
          "fruit",
          "spices",
          "checkout",
          "dairy",
          "drinks",
          "fruit",
          "spices",
          "",
          "",
          "",
          "",
          ""
         ],
         "type": "sunburst",
         "values": [
          1502,
          932,
          844,
          1057,
          790,
          1437,
          895,
          797,
          1005,
          750,
          1532,
          965,
          776,
          1041,
          790,
          1420,
          911,
          713,
          976,
          694,
          1526,
          976,
          775,
          1043,
          730,
          7417,
          4679,
          3905,
          5122,
          3754
         ]
        }
       ],
       "layout": {
        "height": 800,
        "legend": {
         "tracegroupgap": 0
        },
        "margin": {
         "t": 60
        },
        "template": {
         "data": {
          "bar": [
           {
            "error_x": {
             "color": "#2a3f5f"
            },
            "error_y": {
             "color": "#2a3f5f"
            },
            "marker": {
             "line": {
              "color": "#E5ECF6",
              "width": 0.5
             },
             "pattern": {
              "fillmode": "overlay",
              "size": 10,
              "solidity": 0.2
             }
            },
            "type": "bar"
           }
          ],
          "barpolar": [
           {
            "marker": {
             "line": {
              "color": "#E5ECF6",
              "width": 0.5
             },
             "pattern": {
              "fillmode": "overlay",
              "size": 10,
              "solidity": 0.2
             }
            },
            "type": "barpolar"
           }
          ],
          "carpet": [
           {
            "aaxis": {
             "endlinecolor": "#2a3f5f",
             "gridcolor": "white",
             "linecolor": "white",
             "minorgridcolor": "white",
             "startlinecolor": "#2a3f5f"
            },
            "baxis": {
             "endlinecolor": "#2a3f5f",
             "gridcolor": "white",
             "linecolor": "white",
             "minorgridcolor": "white",
             "startlinecolor": "#2a3f5f"
            },
            "type": "carpet"
           }
          ],
          "choropleth": [
           {
            "colorbar": {
             "outlinewidth": 0,
             "ticks": ""
            },
            "type": "choropleth"
           }
          ],
          "contour": [
           {
            "colorbar": {
             "outlinewidth": 0,
             "ticks": ""
            },
            "colorscale": [
             [
              0,
              "#0d0887"
             ],
             [
              0.1111111111111111,
              "#46039f"
             ],
             [
              0.2222222222222222,
              "#7201a8"
             ],
             [
              0.3333333333333333,
              "#9c179e"
             ],
             [
              0.4444444444444444,
              "#bd3786"
             ],
             [
              0.5555555555555556,
              "#d8576b"
             ],
             [
              0.6666666666666666,
              "#ed7953"
             ],
             [
              0.7777777777777778,
              "#fb9f3a"
             ],
             [
              0.8888888888888888,
              "#fdca26"
             ],
             [
              1,
              "#f0f921"
             ]
            ],
            "type": "contour"
           }
          ],
          "contourcarpet": [
           {
            "colorbar": {
             "outlinewidth": 0,
             "ticks": ""
            },
            "type": "contourcarpet"
           }
          ],
          "heatmap": [
           {
            "colorbar": {
             "outlinewidth": 0,
             "ticks": ""
            },
            "colorscale": [
             [
              0,
              "#0d0887"
             ],
             [
              0.1111111111111111,
              "#46039f"
             ],
             [
              0.2222222222222222,
              "#7201a8"
             ],
             [
              0.3333333333333333,
              "#9c179e"
             ],
             [
              0.4444444444444444,
              "#bd3786"
             ],
             [
              0.5555555555555556,
              "#d8576b"
             ],
             [
              0.6666666666666666,
              "#ed7953"
             ],
             [
              0.7777777777777778,
              "#fb9f3a"
             ],
             [
              0.8888888888888888,
              "#fdca26"
             ],
             [
              1,
              "#f0f921"
             ]
            ],
            "type": "heatmap"
           }
          ],
          "heatmapgl": [
           {
            "colorbar": {
             "outlinewidth": 0,
             "ticks": ""
            },
            "colorscale": [
             [
              0,
              "#0d0887"
             ],
             [
              0.1111111111111111,
              "#46039f"
             ],
             [
              0.2222222222222222,
              "#7201a8"
             ],
             [
              0.3333333333333333,
              "#9c179e"
             ],
             [
              0.4444444444444444,
              "#bd3786"
             ],
             [
              0.5555555555555556,
              "#d8576b"
             ],
             [
              0.6666666666666666,
              "#ed7953"
             ],
             [
              0.7777777777777778,
              "#fb9f3a"
             ],
             [
              0.8888888888888888,
              "#fdca26"
             ],
             [
              1,
              "#f0f921"
             ]
            ],
            "type": "heatmapgl"
           }
          ],
          "histogram": [
           {
            "marker": {
             "pattern": {
              "fillmode": "overlay",
              "size": 10,
              "solidity": 0.2
             }
            },
            "type": "histogram"
           }
          ],
          "histogram2d": [
           {
            "colorbar": {
             "outlinewidth": 0,
             "ticks": ""
            },
            "colorscale": [
             [
              0,
              "#0d0887"
             ],
             [
              0.1111111111111111,
              "#46039f"
             ],
             [
              0.2222222222222222,
              "#7201a8"
             ],
             [
              0.3333333333333333,
              "#9c179e"
             ],
             [
              0.4444444444444444,
              "#bd3786"
             ],
             [
              0.5555555555555556,
              "#d8576b"
             ],
             [
              0.6666666666666666,
              "#ed7953"
             ],
             [
              0.7777777777777778,
              "#fb9f3a"
             ],
             [
              0.8888888888888888,
              "#fdca26"
             ],
             [
              1,
              "#f0f921"
             ]
            ],
            "type": "histogram2d"
           }
          ],
          "histogram2dcontour": [
           {
            "colorbar": {
             "outlinewidth": 0,
             "ticks": ""
            },
            "colorscale": [
             [
              0,
              "#0d0887"
             ],
             [
              0.1111111111111111,
              "#46039f"
             ],
             [
              0.2222222222222222,
              "#7201a8"
             ],
             [
              0.3333333333333333,
              "#9c179e"
             ],
             [
              0.4444444444444444,
              "#bd3786"
             ],
             [
              0.5555555555555556,
              "#d8576b"
             ],
             [
              0.6666666666666666,
              "#ed7953"
             ],
             [
              0.7777777777777778,
              "#fb9f3a"
             ],
             [
              0.8888888888888888,
              "#fdca26"
             ],
             [
              1,
              "#f0f921"
             ]
            ],
            "type": "histogram2dcontour"
           }
          ],
          "mesh3d": [
           {
            "colorbar": {
             "outlinewidth": 0,
             "ticks": ""
            },
            "type": "mesh3d"
           }
          ],
          "parcoords": [
           {
            "line": {
             "colorbar": {
              "outlinewidth": 0,
              "ticks": ""
             }
            },
            "type": "parcoords"
           }
          ],
          "pie": [
           {
            "automargin": true,
            "type": "pie"
           }
          ],
          "scatter": [
           {
            "marker": {
             "colorbar": {
              "outlinewidth": 0,
              "ticks": ""
             }
            },
            "type": "scatter"
           }
          ],
          "scatter3d": [
           {
            "line": {
             "colorbar": {
              "outlinewidth": 0,
              "ticks": ""
             }
            },
            "marker": {
             "colorbar": {
              "outlinewidth": 0,
              "ticks": ""
             }
            },
            "type": "scatter3d"
           }
          ],
          "scattercarpet": [
           {
            "marker": {
             "colorbar": {
              "outlinewidth": 0,
              "ticks": ""
             }
            },
            "type": "scattercarpet"
           }
          ],
          "scattergeo": [
           {
            "marker": {
             "colorbar": {
              "outlinewidth": 0,
              "ticks": ""
             }
            },
            "type": "scattergeo"
           }
          ],
          "scattergl": [
           {
            "marker": {
             "colorbar": {
              "outlinewidth": 0,
              "ticks": ""
             }
            },
            "type": "scattergl"
           }
          ],
          "scattermapbox": [
           {
            "marker": {
             "colorbar": {
              "outlinewidth": 0,
              "ticks": ""
             }
            },
            "type": "scattermapbox"
           }
          ],
          "scatterpolar": [
           {
            "marker": {
             "colorbar": {
              "outlinewidth": 0,
              "ticks": ""
             }
            },
            "type": "scatterpolar"
           }
          ],
          "scatterpolargl": [
           {
            "marker": {
             "colorbar": {
              "outlinewidth": 0,
              "ticks": ""
             }
            },
            "type": "scatterpolargl"
           }
          ],
          "scatterternary": [
           {
            "marker": {
             "colorbar": {
              "outlinewidth": 0,
              "ticks": ""
             }
            },
            "type": "scatterternary"
           }
          ],
          "surface": [
           {
            "colorbar": {
             "outlinewidth": 0,
             "ticks": ""
            },
            "colorscale": [
             [
              0,
              "#0d0887"
             ],
             [
              0.1111111111111111,
              "#46039f"
             ],
             [
              0.2222222222222222,
              "#7201a8"
             ],
             [
              0.3333333333333333,
              "#9c179e"
             ],
             [
              0.4444444444444444,
              "#bd3786"
             ],
             [
              0.5555555555555556,
              "#d8576b"
             ],
             [
              0.6666666666666666,
              "#ed7953"
             ],
             [
              0.7777777777777778,
              "#fb9f3a"
             ],
             [
              0.8888888888888888,
              "#fdca26"
             ],
             [
              1,
              "#f0f921"
             ]
            ],
            "type": "surface"
           }
          ],
          "table": [
           {
            "cells": {
             "fill": {
              "color": "#EBF0F8"
             },
             "line": {
              "color": "white"
             }
            },
            "header": {
             "fill": {
              "color": "#C8D4E3"
             },
             "line": {
              "color": "white"
             }
            },
            "type": "table"
           }
          ]
         },
         "layout": {
          "annotationdefaults": {
           "arrowcolor": "#2a3f5f",
           "arrowhead": 0,
           "arrowwidth": 1
          },
          "autotypenumbers": "strict",
          "coloraxis": {
           "colorbar": {
            "outlinewidth": 0,
            "ticks": ""
           }
          },
          "colorscale": {
           "diverging": [
            [
             0,
             "#8e0152"
            ],
            [
             0.1,
             "#c51b7d"
            ],
            [
             0.2,
             "#de77ae"
            ],
            [
             0.3,
             "#f1b6da"
            ],
            [
             0.4,
             "#fde0ef"
            ],
            [
             0.5,
             "#f7f7f7"
            ],
            [
             0.6,
             "#e6f5d0"
            ],
            [
             0.7,
             "#b8e186"
            ],
            [
             0.8,
             "#7fbc41"
            ],
            [
             0.9,
             "#4d9221"
            ],
            [
             1,
             "#276419"
            ]
           ],
           "sequential": [
            [
             0,
             "#0d0887"
            ],
            [
             0.1111111111111111,
             "#46039f"
            ],
            [
             0.2222222222222222,
             "#7201a8"
            ],
            [
             0.3333333333333333,
             "#9c179e"
            ],
            [
             0.4444444444444444,
             "#bd3786"
            ],
            [
             0.5555555555555556,
             "#d8576b"
            ],
            [
             0.6666666666666666,
             "#ed7953"
            ],
            [
             0.7777777777777778,
             "#fb9f3a"
            ],
            [
             0.8888888888888888,
             "#fdca26"
            ],
            [
             1,
             "#f0f921"
            ]
           ],
           "sequentialminus": [
            [
             0,
             "#0d0887"
            ],
            [
             0.1111111111111111,
             "#46039f"
            ],
            [
             0.2222222222222222,
             "#7201a8"
            ],
            [
             0.3333333333333333,
             "#9c179e"
            ],
            [
             0.4444444444444444,
             "#bd3786"
            ],
            [
             0.5555555555555556,
             "#d8576b"
            ],
            [
             0.6666666666666666,
             "#ed7953"
            ],
            [
             0.7777777777777778,
             "#fb9f3a"
            ],
            [
             0.8888888888888888,
             "#fdca26"
            ],
            [
             1,
             "#f0f921"
            ]
           ]
          },
          "colorway": [
           "#636efa",
           "#EF553B",
           "#00cc96",
           "#ab63fa",
           "#FFA15A",
           "#19d3f3",
           "#FF6692",
           "#B6E880",
           "#FF97FF",
           "#FECB52"
          ],
          "font": {
           "color": "#2a3f5f"
          },
          "geo": {
           "bgcolor": "white",
           "lakecolor": "white",
           "landcolor": "#E5ECF6",
           "showlakes": true,
           "showland": true,
           "subunitcolor": "white"
          },
          "hoverlabel": {
           "align": "left"
          },
          "hovermode": "closest",
          "mapbox": {
           "style": "light"
          },
          "paper_bgcolor": "white",
          "plot_bgcolor": "#E5ECF6",
          "polar": {
           "angularaxis": {
            "gridcolor": "white",
            "linecolor": "white",
            "ticks": ""
           },
           "bgcolor": "#E5ECF6",
           "radialaxis": {
            "gridcolor": "white",
            "linecolor": "white",
            "ticks": ""
           }
          },
          "scene": {
           "xaxis": {
            "backgroundcolor": "#E5ECF6",
            "gridcolor": "white",
            "gridwidth": 2,
            "linecolor": "white",
            "showbackground": true,
            "ticks": "",
            "zerolinecolor": "white"
           },
           "yaxis": {
            "backgroundcolor": "#E5ECF6",
            "gridcolor": "white",
            "gridwidth": 2,
            "linecolor": "white",
            "showbackground": true,
            "ticks": "",
            "zerolinecolor": "white"
           },
           "zaxis": {
            "backgroundcolor": "#E5ECF6",
            "gridcolor": "white",
            "gridwidth": 2,
            "linecolor": "white",
            "showbackground": true,
            "ticks": "",
            "zerolinecolor": "white"
           }
          },
          "shapedefaults": {
           "line": {
            "color": "#2a3f5f"
           }
          },
          "ternary": {
           "aaxis": {
            "gridcolor": "white",
            "linecolor": "white",
            "ticks": ""
           },
           "baxis": {
            "gridcolor": "white",
            "linecolor": "white",
            "ticks": ""
           },
           "bgcolor": "#E5ECF6",
           "caxis": {
            "gridcolor": "white",
            "linecolor": "white",
            "ticks": ""
           }
          },
          "title": {
           "x": 0.05
          },
          "xaxis": {
           "automargin": true,
           "gridcolor": "white",
           "linecolor": "white",
           "ticks": "",
           "title": {
            "standoff": 15
           },
           "zerolinecolor": "white",
           "zerolinewidth": 2
          },
          "yaxis": {
           "automargin": true,
           "gridcolor": "white",
           "linecolor": "white",
           "ticks": "",
           "title": {
            "standoff": 15
           },
           "zerolinecolor": "white",
           "zerolinewidth": 2
          }
         }
        }
       }
      },
      "text/html": [
       "<div>                            <div id=\"f2ee1021-3fea-4f8d-94a9-f649fe13b74a\" class=\"plotly-graph-div\" style=\"height:800px; width:100%;\"></div>            <script type=\"text/javascript\">                require([\"plotly\"], function(Plotly) {                    window.PLOTLYENV=window.PLOTLYENV || {};                                    if (document.getElementById(\"f2ee1021-3fea-4f8d-94a9-f649fe13b74a\")) {                    Plotly.newPlot(                        \"f2ee1021-3fea-4f8d-94a9-f649fe13b74a\",                        [{\"branchvalues\":\"total\",\"domain\":{\"x\":[0.0,1.0],\"y\":[0.0,1.0]},\"hovertemplate\":\"labels=%{label}<br>customer_no=%{value}<br>parent=%{parent}<br>id=%{id}<extra></extra>\",\"ids\":[\"checkout/friday\",\"dairy/friday\",\"drinks/friday\",\"fruit/friday\",\"spices/friday\",\"checkout/monday\",\"dairy/monday\",\"drinks/monday\",\"fruit/monday\",\"spices/monday\",\"checkout/thursday\",\"dairy/thursday\",\"drinks/thursday\",\"fruit/thursday\",\"spices/thursday\",\"checkout/tuesday\",\"dairy/tuesday\",\"drinks/tuesday\",\"fruit/tuesday\",\"spices/tuesday\",\"checkout/wednesday\",\"dairy/wednesday\",\"drinks/wednesday\",\"fruit/wednesday\",\"spices/wednesday\",\"checkout\",\"dairy\",\"drinks\",\"fruit\",\"spices\"],\"labels\":[\"friday\",\"friday\",\"friday\",\"friday\",\"friday\",\"monday\",\"monday\",\"monday\",\"monday\",\"monday\",\"thursday\",\"thursday\",\"thursday\",\"thursday\",\"thursday\",\"tuesday\",\"tuesday\",\"tuesday\",\"tuesday\",\"tuesday\",\"wednesday\",\"wednesday\",\"wednesday\",\"wednesday\",\"wednesday\",\"checkout\",\"dairy\",\"drinks\",\"fruit\",\"spices\"],\"name\":\"\",\"parents\":[\"checkout\",\"dairy\",\"drinks\",\"fruit\",\"spices\",\"checkout\",\"dairy\",\"drinks\",\"fruit\",\"spices\",\"checkout\",\"dairy\",\"drinks\",\"fruit\",\"spices\",\"checkout\",\"dairy\",\"drinks\",\"fruit\",\"spices\",\"checkout\",\"dairy\",\"drinks\",\"fruit\",\"spices\",\"\",\"\",\"\",\"\",\"\"],\"values\":[1502,932,844,1057,790,1437,895,797,1005,750,1532,965,776,1041,790,1420,911,713,976,694,1526,976,775,1043,730,7417,4679,3905,5122,3754],\"type\":\"sunburst\"}],                        {\"template\":{\"data\":{\"bar\":[{\"error_x\":{\"color\":\"#2a3f5f\"},\"error_y\":{\"color\":\"#2a3f5f\"},\"marker\":{\"line\":{\"color\":\"#E5ECF6\",\"width\":0.5},\"pattern\":{\"fillmode\":\"overlay\",\"size\":10,\"solidity\":0.2}},\"type\":\"bar\"}],\"barpolar\":[{\"marker\":{\"line\":{\"color\":\"#E5ECF6\",\"width\":0.5},\"pattern\":{\"fillmode\":\"overlay\",\"size\":10,\"solidity\":0.2}},\"type\":\"barpolar\"}],\"carpet\":[{\"aaxis\":{\"endlinecolor\":\"#2a3f5f\",\"gridcolor\":\"white\",\"linecolor\":\"white\",\"minorgridcolor\":\"white\",\"startlinecolor\":\"#2a3f5f\"},\"baxis\":{\"endlinecolor\":\"#2a3f5f\",\"gridcolor\":\"white\",\"linecolor\":\"white\",\"minorgridcolor\":\"white\",\"startlinecolor\":\"#2a3f5f\"},\"type\":\"carpet\"}],\"choropleth\":[{\"colorbar\":{\"outlinewidth\":0,\"ticks\":\"\"},\"type\":\"choropleth\"}],\"contour\":[{\"colorbar\":{\"outlinewidth\":0,\"ticks\":\"\"},\"colorscale\":[[0.0,\"#0d0887\"],[0.1111111111111111,\"#46039f\"],[0.2222222222222222,\"#7201a8\"],[0.3333333333333333,\"#9c179e\"],[0.4444444444444444,\"#bd3786\"],[0.5555555555555556,\"#d8576b\"],[0.6666666666666666,\"#ed7953\"],[0.7777777777777778,\"#fb9f3a\"],[0.8888888888888888,\"#fdca26\"],[1.0,\"#f0f921\"]],\"type\":\"contour\"}],\"contourcarpet\":[{\"colorbar\":{\"outlinewidth\":0,\"ticks\":\"\"},\"type\":\"contourcarpet\"}],\"heatmap\":[{\"colorbar\":{\"outlinewidth\":0,\"ticks\":\"\"},\"colorscale\":[[0.0,\"#0d0887\"],[0.1111111111111111,\"#46039f\"],[0.2222222222222222,\"#7201a8\"],[0.3333333333333333,\"#9c179e\"],[0.4444444444444444,\"#bd3786\"],[0.5555555555555556,\"#d8576b\"],[0.6666666666666666,\"#ed7953\"],[0.7777777777777778,\"#fb9f3a\"],[0.8888888888888888,\"#fdca26\"],[1.0,\"#f0f921\"]],\"type\":\"heatmap\"}],\"heatmapgl\":[{\"colorbar\":{\"outlinewidth\":0,\"ticks\":\"\"},\"colorscale\":[[0.0,\"#0d0887\"],[0.1111111111111111,\"#46039f\"],[0.2222222222222222,\"#7201a8\"],[0.3333333333333333,\"#9c179e\"],[0.4444444444444444,\"#bd3786\"],[0.5555555555555556,\"#d8576b\"],[0.6666666666666666,\"#ed7953\"],[0.7777777777777778,\"#fb9f3a\"],[0.8888888888888888,\"#fdca26\"],[1.0,\"#f0f921\"]],\"type\":\"heatmapgl\"}],\"histogram\":[{\"marker\":{\"pattern\":{\"fillmode\":\"overlay\",\"size\":10,\"solidity\":0.2}},\"type\":\"histogram\"}],\"histogram2d\":[{\"colorbar\":{\"outlinewidth\":0,\"ticks\":\"\"},\"colorscale\":[[0.0,\"#0d0887\"],[0.1111111111111111,\"#46039f\"],[0.2222222222222222,\"#7201a8\"],[0.3333333333333333,\"#9c179e\"],[0.4444444444444444,\"#bd3786\"],[0.5555555555555556,\"#d8576b\"],[0.6666666666666666,\"#ed7953\"],[0.7777777777777778,\"#fb9f3a\"],[0.8888888888888888,\"#fdca26\"],[1.0,\"#f0f921\"]],\"type\":\"histogram2d\"}],\"histogram2dcontour\":[{\"colorbar\":{\"outlinewidth\":0,\"ticks\":\"\"},\"colorscale\":[[0.0,\"#0d0887\"],[0.1111111111111111,\"#46039f\"],[0.2222222222222222,\"#7201a8\"],[0.3333333333333333,\"#9c179e\"],[0.4444444444444444,\"#bd3786\"],[0.5555555555555556,\"#d8576b\"],[0.6666666666666666,\"#ed7953\"],[0.7777777777777778,\"#fb9f3a\"],[0.8888888888888888,\"#fdca26\"],[1.0,\"#f0f921\"]],\"type\":\"histogram2dcontour\"}],\"mesh3d\":[{\"colorbar\":{\"outlinewidth\":0,\"ticks\":\"\"},\"type\":\"mesh3d\"}],\"parcoords\":[{\"line\":{\"colorbar\":{\"outlinewidth\":0,\"ticks\":\"\"}},\"type\":\"parcoords\"}],\"pie\":[{\"automargin\":true,\"type\":\"pie\"}],\"scatter\":[{\"marker\":{\"colorbar\":{\"outlinewidth\":0,\"ticks\":\"\"}},\"type\":\"scatter\"}],\"scatter3d\":[{\"line\":{\"colorbar\":{\"outlinewidth\":0,\"ticks\":\"\"}},\"marker\":{\"colorbar\":{\"outlinewidth\":0,\"ticks\":\"\"}},\"type\":\"scatter3d\"}],\"scattercarpet\":[{\"marker\":{\"colorbar\":{\"outlinewidth\":0,\"ticks\":\"\"}},\"type\":\"scattercarpet\"}],\"scattergeo\":[{\"marker\":{\"colorbar\":{\"outlinewidth\":0,\"ticks\":\"\"}},\"type\":\"scattergeo\"}],\"scattergl\":[{\"marker\":{\"colorbar\":{\"outlinewidth\":0,\"ticks\":\"\"}},\"type\":\"scattergl\"}],\"scattermapbox\":[{\"marker\":{\"colorbar\":{\"outlinewidth\":0,\"ticks\":\"\"}},\"type\":\"scattermapbox\"}],\"scatterpolar\":[{\"marker\":{\"colorbar\":{\"outlinewidth\":0,\"ticks\":\"\"}},\"type\":\"scatterpolar\"}],\"scatterpolargl\":[{\"marker\":{\"colorbar\":{\"outlinewidth\":0,\"ticks\":\"\"}},\"type\":\"scatterpolargl\"}],\"scatterternary\":[{\"marker\":{\"colorbar\":{\"outlinewidth\":0,\"ticks\":\"\"}},\"type\":\"scatterternary\"}],\"surface\":[{\"colorbar\":{\"outlinewidth\":0,\"ticks\":\"\"},\"colorscale\":[[0.0,\"#0d0887\"],[0.1111111111111111,\"#46039f\"],[0.2222222222222222,\"#7201a8\"],[0.3333333333333333,\"#9c179e\"],[0.4444444444444444,\"#bd3786\"],[0.5555555555555556,\"#d8576b\"],[0.6666666666666666,\"#ed7953\"],[0.7777777777777778,\"#fb9f3a\"],[0.8888888888888888,\"#fdca26\"],[1.0,\"#f0f921\"]],\"type\":\"surface\"}],\"table\":[{\"cells\":{\"fill\":{\"color\":\"#EBF0F8\"},\"line\":{\"color\":\"white\"}},\"header\":{\"fill\":{\"color\":\"#C8D4E3\"},\"line\":{\"color\":\"white\"}},\"type\":\"table\"}]},\"layout\":{\"annotationdefaults\":{\"arrowcolor\":\"#2a3f5f\",\"arrowhead\":0,\"arrowwidth\":1},\"autotypenumbers\":\"strict\",\"coloraxis\":{\"colorbar\":{\"outlinewidth\":0,\"ticks\":\"\"}},\"colorscale\":{\"diverging\":[[0,\"#8e0152\"],[0.1,\"#c51b7d\"],[0.2,\"#de77ae\"],[0.3,\"#f1b6da\"],[0.4,\"#fde0ef\"],[0.5,\"#f7f7f7\"],[0.6,\"#e6f5d0\"],[0.7,\"#b8e186\"],[0.8,\"#7fbc41\"],[0.9,\"#4d9221\"],[1,\"#276419\"]],\"sequential\":[[0.0,\"#0d0887\"],[0.1111111111111111,\"#46039f\"],[0.2222222222222222,\"#7201a8\"],[0.3333333333333333,\"#9c179e\"],[0.4444444444444444,\"#bd3786\"],[0.5555555555555556,\"#d8576b\"],[0.6666666666666666,\"#ed7953\"],[0.7777777777777778,\"#fb9f3a\"],[0.8888888888888888,\"#fdca26\"],[1.0,\"#f0f921\"]],\"sequentialminus\":[[0.0,\"#0d0887\"],[0.1111111111111111,\"#46039f\"],[0.2222222222222222,\"#7201a8\"],[0.3333333333333333,\"#9c179e\"],[0.4444444444444444,\"#bd3786\"],[0.5555555555555556,\"#d8576b\"],[0.6666666666666666,\"#ed7953\"],[0.7777777777777778,\"#fb9f3a\"],[0.8888888888888888,\"#fdca26\"],[1.0,\"#f0f921\"]]},\"colorway\":[\"#636efa\",\"#EF553B\",\"#00cc96\",\"#ab63fa\",\"#FFA15A\",\"#19d3f3\",\"#FF6692\",\"#B6E880\",\"#FF97FF\",\"#FECB52\"],\"font\":{\"color\":\"#2a3f5f\"},\"geo\":{\"bgcolor\":\"white\",\"lakecolor\":\"white\",\"landcolor\":\"#E5ECF6\",\"showlakes\":true,\"showland\":true,\"subunitcolor\":\"white\"},\"hoverlabel\":{\"align\":\"left\"},\"hovermode\":\"closest\",\"mapbox\":{\"style\":\"light\"},\"paper_bgcolor\":\"white\",\"plot_bgcolor\":\"#E5ECF6\",\"polar\":{\"angularaxis\":{\"gridcolor\":\"white\",\"linecolor\":\"white\",\"ticks\":\"\"},\"bgcolor\":\"#E5ECF6\",\"radialaxis\":{\"gridcolor\":\"white\",\"linecolor\":\"white\",\"ticks\":\"\"}},\"scene\":{\"xaxis\":{\"backgroundcolor\":\"#E5ECF6\",\"gridcolor\":\"white\",\"gridwidth\":2,\"linecolor\":\"white\",\"showbackground\":true,\"ticks\":\"\",\"zerolinecolor\":\"white\"},\"yaxis\":{\"backgroundcolor\":\"#E5ECF6\",\"gridcolor\":\"white\",\"gridwidth\":2,\"linecolor\":\"white\",\"showbackground\":true,\"ticks\":\"\",\"zerolinecolor\":\"white\"},\"zaxis\":{\"backgroundcolor\":\"#E5ECF6\",\"gridcolor\":\"white\",\"gridwidth\":2,\"linecolor\":\"white\",\"showbackground\":true,\"ticks\":\"\",\"zerolinecolor\":\"white\"}},\"shapedefaults\":{\"line\":{\"color\":\"#2a3f5f\"}},\"ternary\":{\"aaxis\":{\"gridcolor\":\"white\",\"linecolor\":\"white\",\"ticks\":\"\"},\"baxis\":{\"gridcolor\":\"white\",\"linecolor\":\"white\",\"ticks\":\"\"},\"bgcolor\":\"#E5ECF6\",\"caxis\":{\"gridcolor\":\"white\",\"linecolor\":\"white\",\"ticks\":\"\"}},\"title\":{\"x\":0.05},\"xaxis\":{\"automargin\":true,\"gridcolor\":\"white\",\"linecolor\":\"white\",\"ticks\":\"\",\"title\":{\"standoff\":15},\"zerolinecolor\":\"white\",\"zerolinewidth\":2},\"yaxis\":{\"automargin\":true,\"gridcolor\":\"white\",\"linecolor\":\"white\",\"ticks\":\"\",\"title\":{\"standoff\":15},\"zerolinecolor\":\"white\",\"zerolinewidth\":2}}},\"legend\":{\"tracegroupgap\":0},\"margin\":{\"t\":60},\"height\":800},                        {\"responsive\": true}                    ).then(function(){\n",
       "                            \n",
       "var gd = document.getElementById('f2ee1021-3fea-4f8d-94a9-f649fe13b74a');\n",
       "var x = new MutationObserver(function (mutations, observer) {{\n",
       "        var display = window.getComputedStyle(gd).display;\n",
       "        if (!display || display === 'none') {{\n",
       "            console.log([gd, 'removed!']);\n",
       "            Plotly.purge(gd);\n",
       "            observer.disconnect();\n",
       "        }}\n",
       "}});\n",
       "\n",
       "// Listen for the removal of the full notebook cells\n",
       "var notebookContainer = gd.closest('#notebook-container');\n",
       "if (notebookContainer) {{\n",
       "    x.observe(notebookContainer, {childList: true});\n",
       "}}\n",
       "\n",
       "// Listen for the clearing of the current output cell\n",
       "var outputEl = gd.closest('.output');\n",
       "if (outputEl) {{\n",
       "    x.observe(outputEl, {childList: true});\n",
       "}}\n",
       "\n",
       "                        })                };                });            </script>        </div>"
      ]
     },
     "metadata": {},
     "output_type": "display_data"
    }
   ],
   "source": [
    "import plotly.express as px\n",
    "fig = px.sunburst(total_customers, path=['location','weekday'], values='customer_no',height=800)\n",
    "fig.show()"
   ]
  },
  {
   "cell_type": "code",
   "execution_count": null,
   "id": "a2e333ab",
   "metadata": {},
   "outputs": [],
   "source": []
  },
  {
   "cell_type": "code",
   "execution_count": 196,
   "id": "ddb3f0ba",
   "metadata": {},
   "outputs": [
    {
     "data": {
      "text/plain": [
       "<AxesSubplot:ylabel='location'>"
      ]
     },
     "execution_count": 196,
     "metadata": {},
     "output_type": "execute_result"
    },
    {
     "data": {
      "text/plain": [
       "<Figure size 1440x720 with 0 Axes>"
      ]
     },
     "metadata": {},
     "output_type": "display_data"
    },
    {
     "data": {
      "image/png": "[encoded data removed]",
      "text/plain": [
       "<Figure size 432x288 with 1 Axes>"
      ]
     },
     "metadata": {
      "needs_background": "light"
     },
     "output_type": "display_data"
    }
   ],
   "source": [
    "plt.figure(figsize=(20,10))\n",
    "total_customers_location=pd.DataFrame(df.groupby('location')['customer_no'].count())\n",
    "total_customers_location.plot(kind='barh',ylabel='number of customers')\n"
   ]
  },
  {
   "cell_type": "code",
   "execution_count": null,
   "id": "69799013",
   "metadata": {},
   "outputs": [],
   "source": []
  },
  {
   "cell_type": "code",
   "execution_count": null,
   "id": "aebce5a8",
   "metadata": {},
   "outputs": [],
   "source": []
  },
  {
   "cell_type": "code",
   "execution_count": null,
   "id": "30f7db2f",
   "metadata": {},
   "outputs": [],
   "source": []
  },
  {
   "cell_type": "code",
   "execution_count": 9,
   "id": "5b47c772",
   "metadata": {},
   "outputs": [
    {
     "data": {
      "text/plain": [
       "array(['monday', 'tuesday', 'wednesday', 'thursday', 'friday'],\n",
       "      dtype=object)"
      ]
     },
     "execution_count": 9,
     "metadata": {},
     "output_type": "execute_result"
    }
   ],
   "source": [
    "df.weekday.unique()"
   ]
  },
  {
   "cell_type": "code",
   "execution_count": null,
   "id": "20441af4",
   "metadata": {},
   "outputs": [],
   "source": []
  },
  {
   "cell_type": "markdown",
   "id": "6cc5a606",
   "metadata": {},
   "source": [
    "**Calculate the total number of customers in each section over time**"
   ]
  },
  {
   "cell_type": "code",
   "execution_count": 35,
   "id": "38280200",
   "metadata": {},
   "outputs": [
    {
     "data": {
      "text/html": [
       "<div>\n",
       "<style scoped>\n",
       "    .dataframe tbody tr th:only-of-type {\n",
       "        vertical-align: middle;\n",
       "    }\n",
       "\n",
       "    .dataframe tbody tr th {\n",
       "        vertical-align: top;\n",
       "    }\n",
       "\n",
       "    .dataframe thead th {\n",
       "        text-align: right;\n",
       "    }\n",
       "</style>\n",
       "<table border=\"1\" class=\"dataframe\">\n",
       "  <thead>\n",
       "    <tr style=\"text-align: right;\">\n",
       "      <th>location</th>\n",
       "      <th>checkout</th>\n",
       "      <th>dairy</th>\n",
       "      <th>drinks</th>\n",
       "      <th>fruit</th>\n",
       "      <th>spices</th>\n",
       "    </tr>\n",
       "    <tr>\n",
       "      <th>timestamp</th>\n",
       "      <th></th>\n",
       "      <th></th>\n",
       "      <th></th>\n",
       "      <th></th>\n",
       "      <th></th>\n",
       "    </tr>\n",
       "  </thead>\n",
       "  <tbody>\n",
       "    <tr>\n",
       "      <th>2019-09-02 07:03:00</th>\n",
       "      <td>0.0</td>\n",
       "      <td>2.0</td>\n",
       "      <td>0.0</td>\n",
       "      <td>0.0</td>\n",
       "      <td>0.0</td>\n",
       "    </tr>\n",
       "    <tr>\n",
       "      <th>2019-09-02 07:04:00</th>\n",
       "      <td>0.0</td>\n",
       "      <td>2.0</td>\n",
       "      <td>0.0</td>\n",
       "      <td>1.0</td>\n",
       "      <td>3.0</td>\n",
       "    </tr>\n",
       "    <tr>\n",
       "      <th>2019-09-02 07:05:00</th>\n",
       "      <td>2.0</td>\n",
       "      <td>1.0</td>\n",
       "      <td>1.0</td>\n",
       "      <td>0.0</td>\n",
       "      <td>0.0</td>\n",
       "    </tr>\n",
       "    <tr>\n",
       "      <th>2019-09-02 07:06:00</th>\n",
       "      <td>2.0</td>\n",
       "      <td>2.0</td>\n",
       "      <td>1.0</td>\n",
       "      <td>2.0</td>\n",
       "      <td>1.0</td>\n",
       "    </tr>\n",
       "    <tr>\n",
       "      <th>2019-09-02 07:07:00</th>\n",
       "      <td>1.0</td>\n",
       "      <td>1.0</td>\n",
       "      <td>1.0</td>\n",
       "      <td>0.0</td>\n",
       "      <td>1.0</td>\n",
       "    </tr>\n",
       "    <tr>\n",
       "      <th>...</th>\n",
       "      <td>...</td>\n",
       "      <td>...</td>\n",
       "      <td>...</td>\n",
       "      <td>...</td>\n",
       "      <td>...</td>\n",
       "    </tr>\n",
       "    <tr>\n",
       "      <th>2019-09-06 21:46:00</th>\n",
       "      <td>0.0</td>\n",
       "      <td>0.0</td>\n",
       "      <td>1.0</td>\n",
       "      <td>4.0</td>\n",
       "      <td>0.0</td>\n",
       "    </tr>\n",
       "    <tr>\n",
       "      <th>2019-09-06 21:47:00</th>\n",
       "      <td>2.0</td>\n",
       "      <td>1.0</td>\n",
       "      <td>0.0</td>\n",
       "      <td>1.0</td>\n",
       "      <td>0.0</td>\n",
       "    </tr>\n",
       "    <tr>\n",
       "      <th>2019-09-06 21:48:00</th>\n",
       "      <td>2.0</td>\n",
       "      <td>3.0</td>\n",
       "      <td>0.0</td>\n",
       "      <td>2.0</td>\n",
       "      <td>0.0</td>\n",
       "    </tr>\n",
       "    <tr>\n",
       "      <th>2019-09-06 21:49:00</th>\n",
       "      <td>0.0</td>\n",
       "      <td>2.0</td>\n",
       "      <td>1.0</td>\n",
       "      <td>0.0</td>\n",
       "      <td>1.0</td>\n",
       "    </tr>\n",
       "    <tr>\n",
       "      <th>2019-09-06 21:50:00</th>\n",
       "      <td>2.0</td>\n",
       "      <td>1.0</td>\n",
       "      <td>1.0</td>\n",
       "      <td>1.0</td>\n",
       "      <td>1.0</td>\n",
       "    </tr>\n",
       "  </tbody>\n",
       "</table>\n",
       "<p>4363 rows × 5 columns</p>\n",
       "</div>"
      ],
      "text/plain": [
       "location             checkout  dairy  drinks  fruit  spices\n",
       "timestamp                                                  \n",
       "2019-09-02 07:03:00       0.0    2.0     0.0    0.0     0.0\n",
       "2019-09-02 07:04:00       0.0    2.0     0.0    1.0     3.0\n",
       "2019-09-02 07:05:00       2.0    1.0     1.0    0.0     0.0\n",
       "2019-09-02 07:06:00       2.0    2.0     1.0    2.0     1.0\n",
       "2019-09-02 07:07:00       1.0    1.0     1.0    0.0     1.0\n",
       "...                       ...    ...     ...    ...     ...\n",
       "2019-09-06 21:46:00       0.0    0.0     1.0    4.0     0.0\n",
       "2019-09-06 21:47:00       2.0    1.0     0.0    1.0     0.0\n",
       "2019-09-06 21:48:00       2.0    3.0     0.0    2.0     0.0\n",
       "2019-09-06 21:49:00       0.0    2.0     1.0    0.0     1.0\n",
       "2019-09-06 21:50:00       2.0    1.0     1.0    1.0     1.0\n",
       "\n",
       "[4363 rows x 5 columns]"
      ]
     },
     "execution_count": 35,
     "metadata": {},
     "output_type": "execute_result"
    }
   ],
   "source": [
    "df_unstack = df.groupby('timestamp')['location'].value_counts().unstack().fillna(0)\n",
    "df_unstack"
   ]
  },
  {
   "cell_type": "code",
   "execution_count": null,
   "id": "f7a0a960",
   "metadata": {},
   "outputs": [],
   "source": []
  },
  {
   "cell_type": "code",
   "execution_count": 197,
   "id": "f99427cf",
   "metadata": {},
   "outputs": [
    {
     "data": {
      "text/html": [
       "<div>\n",
       "<style scoped>\n",
       "    .dataframe tbody tr th:only-of-type {\n",
       "        vertical-align: middle;\n",
       "    }\n",
       "\n",
       "    .dataframe tbody tr th {\n",
       "        vertical-align: top;\n",
       "    }\n",
       "\n",
       "    .dataframe thead th {\n",
       "        text-align: right;\n",
       "    }\n",
       "</style>\n",
       "<table border=\"1\" class=\"dataframe\">\n",
       "  <thead>\n",
       "    <tr style=\"text-align: right;\">\n",
       "      <th></th>\n",
       "      <th>timestamp</th>\n",
       "      <th>location</th>\n",
       "      <th>weekday</th>\n",
       "      <th>hour</th>\n",
       "      <th>customer_no</th>\n",
       "    </tr>\n",
       "  </thead>\n",
       "  <tbody>\n",
       "    <tr>\n",
       "      <th>0</th>\n",
       "      <td>2019-09-02 07:03:00</td>\n",
       "      <td>dairy</td>\n",
       "      <td>monday</td>\n",
       "      <td>7</td>\n",
       "      <td>2</td>\n",
       "    </tr>\n",
       "    <tr>\n",
       "      <th>1</th>\n",
       "      <td>2019-09-02 07:04:00</td>\n",
       "      <td>dairy</td>\n",
       "      <td>monday</td>\n",
       "      <td>7</td>\n",
       "      <td>2</td>\n",
       "    </tr>\n",
       "    <tr>\n",
       "      <th>2</th>\n",
       "      <td>2019-09-02 07:04:00</td>\n",
       "      <td>fruit</td>\n",
       "      <td>monday</td>\n",
       "      <td>7</td>\n",
       "      <td>1</td>\n",
       "    </tr>\n",
       "    <tr>\n",
       "      <th>3</th>\n",
       "      <td>2019-09-02 07:04:00</td>\n",
       "      <td>spices</td>\n",
       "      <td>monday</td>\n",
       "      <td>7</td>\n",
       "      <td>3</td>\n",
       "    </tr>\n",
       "    <tr>\n",
       "      <th>4</th>\n",
       "      <td>2019-09-02 07:05:00</td>\n",
       "      <td>checkout</td>\n",
       "      <td>monday</td>\n",
       "      <td>7</td>\n",
       "      <td>2</td>\n",
       "    </tr>\n",
       "    <tr>\n",
       "      <th>5</th>\n",
       "      <td>2019-09-02 07:05:00</td>\n",
       "      <td>dairy</td>\n",
       "      <td>monday</td>\n",
       "      <td>7</td>\n",
       "      <td>1</td>\n",
       "    </tr>\n",
       "    <tr>\n",
       "      <th>6</th>\n",
       "      <td>2019-09-02 07:05:00</td>\n",
       "      <td>drinks</td>\n",
       "      <td>monday</td>\n",
       "      <td>7</td>\n",
       "      <td>1</td>\n",
       "    </tr>\n",
       "    <tr>\n",
       "      <th>7</th>\n",
       "      <td>2019-09-02 07:06:00</td>\n",
       "      <td>checkout</td>\n",
       "      <td>monday</td>\n",
       "      <td>7</td>\n",
       "      <td>2</td>\n",
       "    </tr>\n",
       "    <tr>\n",
       "      <th>8</th>\n",
       "      <td>2019-09-02 07:06:00</td>\n",
       "      <td>dairy</td>\n",
       "      <td>monday</td>\n",
       "      <td>7</td>\n",
       "      <td>2</td>\n",
       "    </tr>\n",
       "    <tr>\n",
       "      <th>9</th>\n",
       "      <td>2019-09-02 07:06:00</td>\n",
       "      <td>drinks</td>\n",
       "      <td>monday</td>\n",
       "      <td>7</td>\n",
       "      <td>1</td>\n",
       "    </tr>\n",
       "  </tbody>\n",
       "</table>\n",
       "</div>"
      ],
      "text/plain": [
       "            timestamp  location weekday  hour  customer_no\n",
       "0 2019-09-02 07:03:00     dairy  monday     7            2\n",
       "1 2019-09-02 07:04:00     dairy  monday     7            2\n",
       "2 2019-09-02 07:04:00     fruit  monday     7            1\n",
       "3 2019-09-02 07:04:00    spices  monday     7            3\n",
       "4 2019-09-02 07:05:00  checkout  monday     7            2\n",
       "5 2019-09-02 07:05:00     dairy  monday     7            1\n",
       "6 2019-09-02 07:05:00    drinks  monday     7            1\n",
       "7 2019-09-02 07:06:00  checkout  monday     7            2\n",
       "8 2019-09-02 07:06:00     dairy  monday     7            2\n",
       "9 2019-09-02 07:06:00    drinks  monday     7            1"
      ]
     },
     "execution_count": 197,
     "metadata": {},
     "output_type": "execute_result"
    }
   ],
   "source": [
    "customers_per_time=pd.DataFrame(df.groupby(['timestamp','location','weekday','hour'])\n",
    "                                                 ['customer_no'].count()).reset_index()\n",
    "customers_per_time.head(10)"
   ]
  },
  {
   "cell_type": "code",
   "execution_count": 166,
   "id": "bd95a523",
   "metadata": {
    "scrolled": true
   },
   "outputs": [
    {
     "data": {
      "text/plain": [
       "[Text(0.5, 1.0, 'total number of customers in each section over time')]"
      ]
     },
     "execution_count": 166,
     "metadata": {},
     "output_type": "execute_result"
    },
    {
     "data": {
      "image/png": "[encoded data removed]",
      "text/plain": [
       "<Figure size 1440x720 with 1 Axes>"
      ]
     },
     "metadata": {
      "needs_background": "light"
     },
     "output_type": "display_data"
    }
   ],
   "source": [
    "plt.figure(figsize=(20,10))\n",
    "sns.lineplot(data=customers_per_time,x=customers_per_time['hour'],\n",
    "              y=customers_per_time['customer_no'],\n",
    "              hue=customers_per_time['location']).set(title='total number of customers in each section over time')"
   ]
  },
  {
   "cell_type": "code",
   "execution_count": null,
   "id": "28bed844",
   "metadata": {},
   "outputs": [],
   "source": []
  },
  {
   "cell_type": "markdown",
   "id": "4990951d",
   "metadata": {},
   "source": [
    "**Display the number of customers at checkout over time**"
   ]
  },
  {
   "cell_type": "code",
   "execution_count": 12,
   "id": "411db380",
   "metadata": {},
   "outputs": [
    {
     "data": {
      "text/html": [
       "<div>\n",
       "<style scoped>\n",
       "    .dataframe tbody tr th:only-of-type {\n",
       "        vertical-align: middle;\n",
       "    }\n",
       "\n",
       "    .dataframe tbody tr th {\n",
       "        vertical-align: top;\n",
       "    }\n",
       "\n",
       "    .dataframe thead th {\n",
       "        text-align: right;\n",
       "    }\n",
       "</style>\n",
       "<table border=\"1\" class=\"dataframe\">\n",
       "  <thead>\n",
       "    <tr style=\"text-align: right;\">\n",
       "      <th></th>\n",
       "      <th>location</th>\n",
       "      <th>weekday</th>\n",
       "      <th>hour</th>\n",
       "      <th>customer_no</th>\n",
       "    </tr>\n",
       "  </thead>\n",
       "  <tbody>\n",
       "    <tr>\n",
       "      <th>0</th>\n",
       "      <td>checkout</td>\n",
       "      <td>friday</td>\n",
       "      <td>7</td>\n",
       "      <td>87</td>\n",
       "    </tr>\n",
       "    <tr>\n",
       "      <th>1</th>\n",
       "      <td>checkout</td>\n",
       "      <td>friday</td>\n",
       "      <td>8</td>\n",
       "      <td>132</td>\n",
       "    </tr>\n",
       "    <tr>\n",
       "      <th>2</th>\n",
       "      <td>checkout</td>\n",
       "      <td>friday</td>\n",
       "      <td>9</td>\n",
       "      <td>82</td>\n",
       "    </tr>\n",
       "    <tr>\n",
       "      <th>3</th>\n",
       "      <td>checkout</td>\n",
       "      <td>friday</td>\n",
       "      <td>10</td>\n",
       "      <td>80</td>\n",
       "    </tr>\n",
       "    <tr>\n",
       "      <th>4</th>\n",
       "      <td>checkout</td>\n",
       "      <td>friday</td>\n",
       "      <td>11</td>\n",
       "      <td>79</td>\n",
       "    </tr>\n",
       "    <tr>\n",
       "      <th>...</th>\n",
       "      <td>...</td>\n",
       "      <td>...</td>\n",
       "      <td>...</td>\n",
       "      <td>...</td>\n",
       "    </tr>\n",
       "    <tr>\n",
       "      <th>70</th>\n",
       "      <td>checkout</td>\n",
       "      <td>wednesday</td>\n",
       "      <td>17</td>\n",
       "      <td>98</td>\n",
       "    </tr>\n",
       "    <tr>\n",
       "      <th>71</th>\n",
       "      <td>checkout</td>\n",
       "      <td>wednesday</td>\n",
       "      <td>18</td>\n",
       "      <td>97</td>\n",
       "    </tr>\n",
       "    <tr>\n",
       "      <th>72</th>\n",
       "      <td>checkout</td>\n",
       "      <td>wednesday</td>\n",
       "      <td>19</td>\n",
       "      <td>192</td>\n",
       "    </tr>\n",
       "    <tr>\n",
       "      <th>73</th>\n",
       "      <td>checkout</td>\n",
       "      <td>wednesday</td>\n",
       "      <td>20</td>\n",
       "      <td>85</td>\n",
       "    </tr>\n",
       "    <tr>\n",
       "      <th>74</th>\n",
       "      <td>checkout</td>\n",
       "      <td>wednesday</td>\n",
       "      <td>21</td>\n",
       "      <td>56</td>\n",
       "    </tr>\n",
       "  </tbody>\n",
       "</table>\n",
       "<p>75 rows × 4 columns</p>\n",
       "</div>"
      ],
      "text/plain": [
       "    location    weekday  hour  customer_no\n",
       "0   checkout     friday     7           87\n",
       "1   checkout     friday     8          132\n",
       "2   checkout     friday     9           82\n",
       "3   checkout     friday    10           80\n",
       "4   checkout     friday    11           79\n",
       "..       ...        ...   ...          ...\n",
       "70  checkout  wednesday    17           98\n",
       "71  checkout  wednesday    18           97\n",
       "72  checkout  wednesday    19          192\n",
       "73  checkout  wednesday    20           85\n",
       "74  checkout  wednesday    21           56\n",
       "\n",
       "[75 rows x 4 columns]"
      ]
     },
     "execution_count": 12,
     "metadata": {},
     "output_type": "execute_result"
    }
   ],
   "source": [
    "customer_at_checkout=customers_per_time[customers_per_time['location']=='checkout']\n",
    "customer_at_checkout"
   ]
  },
  {
   "cell_type": "code",
   "execution_count": 13,
   "id": "cb991de6",
   "metadata": {},
   "outputs": [
    {
     "data": {
      "text/plain": [
       "[Text(0.5, 1.0, 'number of customers at checkout over time')]"
      ]
     },
     "execution_count": 13,
     "metadata": {},
     "output_type": "execute_result"
    },
    {
     "data": {
      "image/png": "[encoded data removed]",
      "text/plain": [
       "<Figure size 1440x720 with 1 Axes>"
      ]
     },
     "metadata": {
      "needs_background": "light"
     },
     "output_type": "display_data"
    }
   ],
   "source": [
    "plt.figure(figsize=(20,10))\n",
    "sns.lineplot(data=customer_at_checkout,x=customer_at_checkout['hour'],\n",
    "              y=customer_at_checkout['customer_no'],\n",
    "              hue=customer_at_checkout['weekday']).set(title='number of customers at checkout over time')\n"
   ]
  },
  {
   "cell_type": "code",
   "execution_count": null,
   "id": "3846ff44",
   "metadata": {},
   "outputs": [],
   "source": []
  },
  {
   "cell_type": "markdown",
   "id": "9846c2cb",
   "metadata": {},
   "source": [
    "**Calculate the time each customer spent in the market**"
   ]
  },
  {
   "cell_type": "code",
   "execution_count": 14,
   "id": "b4e296e7",
   "metadata": {},
   "outputs": [],
   "source": [
    "df1=df[['timestamp','weekday','hour','location','customer_no']]\n",
    "df1['uniqueID']=df['weekday']+df['customer_no'].astype(str)\n",
    "#df1 = df1.sort_values(['customer_no', 'timestamp']).reset_index()\n",
    "#df1['timespent'] = df1.groupby('customer_no')['timestamp'].diff().reset_index()"
   ]
  },
  {
   "cell_type": "code",
   "execution_count": 59,
   "id": "2175dbf9",
   "metadata": {},
   "outputs": [],
   "source": [
    "df1 = df1.sort_values(['customer_no','timestamp']).reset_index()\n",
    "df1['timespent'] = df1.groupby('uniqueID')['timestamp'].diff()"
   ]
  },
  {
   "cell_type": "code",
   "execution_count": 60,
   "id": "2716c255",
   "metadata": {},
   "outputs": [],
   "source": [
    "df1=pd.DataFrame(df1)"
   ]
  },
  {
   "cell_type": "code",
   "execution_count": 61,
   "id": "c17f8d39",
   "metadata": {},
   "outputs": [
    {
     "data": {
      "text/html": [
       "<div>\n",
       "<style scoped>\n",
       "    .dataframe tbody tr th:only-of-type {\n",
       "        vertical-align: middle;\n",
       "    }\n",
       "\n",
       "    .dataframe tbody tr th {\n",
       "        vertical-align: top;\n",
       "    }\n",
       "\n",
       "    .dataframe thead th {\n",
       "        text-align: right;\n",
       "    }\n",
       "</style>\n",
       "<table border=\"1\" class=\"dataframe\">\n",
       "  <thead>\n",
       "    <tr style=\"text-align: right;\">\n",
       "      <th></th>\n",
       "      <th>level_0</th>\n",
       "      <th>index</th>\n",
       "      <th>timestamp</th>\n",
       "      <th>weekday</th>\n",
       "      <th>hour</th>\n",
       "      <th>location</th>\n",
       "      <th>customer_no</th>\n",
       "      <th>uniqueID</th>\n",
       "      <th>timespent</th>\n",
       "    </tr>\n",
       "  </thead>\n",
       "  <tbody>\n",
       "    <tr>\n",
       "      <th>0</th>\n",
       "      <td>0</td>\n",
       "      <td>1970-01-01 00:00:00.000000000</td>\n",
       "      <td>2019-09-02 07:03:00</td>\n",
       "      <td>monday</td>\n",
       "      <td>7</td>\n",
       "      <td>dairy</td>\n",
       "      <td>1</td>\n",
       "      <td>monday1</td>\n",
       "      <td>NaT</td>\n",
       "    </tr>\n",
       "    <tr>\n",
       "      <th>1</th>\n",
       "      <td>1</td>\n",
       "      <td>1970-01-01 00:00:00.000000008</td>\n",
       "      <td>2019-09-02 07:05:00</td>\n",
       "      <td>monday</td>\n",
       "      <td>7</td>\n",
       "      <td>checkout</td>\n",
       "      <td>1</td>\n",
       "      <td>monday1</td>\n",
       "      <td>0 days 00:02:00</td>\n",
       "    </tr>\n",
       "    <tr>\n",
       "      <th>2</th>\n",
       "      <td>2</td>\n",
       "      <td>1970-01-01 00:00:00.000000000</td>\n",
       "      <td>2019-09-03 07:02:00</td>\n",
       "      <td>tuesday</td>\n",
       "      <td>7</td>\n",
       "      <td>fruit</td>\n",
       "      <td>1</td>\n",
       "      <td>tuesday1</td>\n",
       "      <td>NaT</td>\n",
       "    </tr>\n",
       "    <tr>\n",
       "      <th>3</th>\n",
       "      <td>3</td>\n",
       "      <td>1970-01-01 00:00:00.000000003</td>\n",
       "      <td>2019-09-03 07:05:00</td>\n",
       "      <td>tuesday</td>\n",
       "      <td>7</td>\n",
       "      <td>drinks</td>\n",
       "      <td>1</td>\n",
       "      <td>tuesday1</td>\n",
       "      <td>0 days 00:03:00</td>\n",
       "    </tr>\n",
       "    <tr>\n",
       "      <th>4</th>\n",
       "      <td>4</td>\n",
       "      <td>1970-01-01 00:00:00.000000025</td>\n",
       "      <td>2019-09-03 07:12:00</td>\n",
       "      <td>tuesday</td>\n",
       "      <td>7</td>\n",
       "      <td>checkout</td>\n",
       "      <td>1</td>\n",
       "      <td>tuesday1</td>\n",
       "      <td>0 days 00:07:00</td>\n",
       "    </tr>\n",
       "    <tr>\n",
       "      <th>...</th>\n",
       "      <td>...</td>\n",
       "      <td>...</td>\n",
       "      <td>...</td>\n",
       "      <td>...</td>\n",
       "      <td>...</td>\n",
       "      <td>...</td>\n",
       "      <td>...</td>\n",
       "      <td>...</td>\n",
       "      <td>...</td>\n",
       "    </tr>\n",
       "    <tr>\n",
       "      <th>24872</th>\n",
       "      <td>24872</td>\n",
       "      <td>1970-01-01 00:00:00.000005099</td>\n",
       "      <td>2019-09-05 21:48:00</td>\n",
       "      <td>thursday</td>\n",
       "      <td>21</td>\n",
       "      <td>dairy</td>\n",
       "      <td>1533</td>\n",
       "      <td>thursday1533</td>\n",
       "      <td>NaT</td>\n",
       "    </tr>\n",
       "    <tr>\n",
       "      <th>24873</th>\n",
       "      <td>24873</td>\n",
       "      <td>1970-01-01 00:00:00.000005100</td>\n",
       "      <td>2019-09-05 21:48:00</td>\n",
       "      <td>thursday</td>\n",
       "      <td>21</td>\n",
       "      <td>fruit</td>\n",
       "      <td>1534</td>\n",
       "      <td>thursday1534</td>\n",
       "      <td>NaT</td>\n",
       "    </tr>\n",
       "    <tr>\n",
       "      <th>24874</th>\n",
       "      <td>24874</td>\n",
       "      <td>1970-01-01 00:00:00.000005102</td>\n",
       "      <td>2019-09-05 21:49:00</td>\n",
       "      <td>thursday</td>\n",
       "      <td>21</td>\n",
       "      <td>checkout</td>\n",
       "      <td>1534</td>\n",
       "      <td>thursday1534</td>\n",
       "      <td>0 days 00:01:00</td>\n",
       "    </tr>\n",
       "    <tr>\n",
       "      <th>24875</th>\n",
       "      <td>24875</td>\n",
       "      <td>1970-01-01 00:00:00.000005101</td>\n",
       "      <td>2019-09-05 21:48:00</td>\n",
       "      <td>thursday</td>\n",
       "      <td>21</td>\n",
       "      <td>spices</td>\n",
       "      <td>1535</td>\n",
       "      <td>thursday1535</td>\n",
       "      <td>NaT</td>\n",
       "    </tr>\n",
       "    <tr>\n",
       "      <th>24876</th>\n",
       "      <td>24876</td>\n",
       "      <td>1970-01-01 00:00:00.000005103</td>\n",
       "      <td>2019-09-05 21:49:00</td>\n",
       "      <td>thursday</td>\n",
       "      <td>21</td>\n",
       "      <td>checkout</td>\n",
       "      <td>1535</td>\n",
       "      <td>thursday1535</td>\n",
       "      <td>0 days 00:01:00</td>\n",
       "    </tr>\n",
       "  </tbody>\n",
       "</table>\n",
       "<p>24877 rows × 9 columns</p>\n",
       "</div>"
      ],
      "text/plain": [
       "       level_0                         index           timestamp   weekday  \\\n",
       "0            0 1970-01-01 00:00:00.000000000 2019-09-02 07:03:00    monday   \n",
       "1            1 1970-01-01 00:00:00.000000008 2019-09-02 07:05:00    monday   \n",
       "2            2 1970-01-01 00:00:00.000000000 2019-09-03 07:02:00   tuesday   \n",
       "3            3 1970-01-01 00:00:00.000000003 2019-09-03 07:05:00   tuesday   \n",
       "4            4 1970-01-01 00:00:00.000000025 2019-09-03 07:12:00   tuesday   \n",
       "...        ...                           ...                 ...       ...   \n",
       "24872    24872 1970-01-01 00:00:00.000005099 2019-09-05 21:48:00  thursday   \n",
       "24873    24873 1970-01-01 00:00:00.000005100 2019-09-05 21:48:00  thursday   \n",
       "24874    24874 1970-01-01 00:00:00.000005102 2019-09-05 21:49:00  thursday   \n",
       "24875    24875 1970-01-01 00:00:00.000005101 2019-09-05 21:48:00  thursday   \n",
       "24876    24876 1970-01-01 00:00:00.000005103 2019-09-05 21:49:00  thursday   \n",
       "\n",
       "       hour  location  customer_no      uniqueID       timespent  \n",
       "0         7     dairy            1       monday1             NaT  \n",
       "1         7  checkout            1       monday1 0 days 00:02:00  \n",
       "2         7     fruit            1      tuesday1             NaT  \n",
       "3         7    drinks            1      tuesday1 0 days 00:03:00  \n",
       "4         7  checkout            1      tuesday1 0 days 00:07:00  \n",
       "...     ...       ...          ...           ...             ...  \n",
       "24872    21     dairy         1533  thursday1533             NaT  \n",
       "24873    21     fruit         1534  thursday1534             NaT  \n",
       "24874    21  checkout         1534  thursday1534 0 days 00:01:00  \n",
       "24875    21    spices         1535  thursday1535             NaT  \n",
       "24876    21  checkout         1535  thursday1535 0 days 00:01:00  \n",
       "\n",
       "[24877 rows x 9 columns]"
      ]
     },
     "execution_count": 61,
     "metadata": {},
     "output_type": "execute_result"
    }
   ],
   "source": [
    "df1"
   ]
  },
  {
   "cell_type": "code",
   "execution_count": 62,
   "id": "8a85674b",
   "metadata": {},
   "outputs": [
    {
     "data": {
      "text/plain": [
       "array(['monday1', 'tuesday1', 'wednesday1', ..., 'thursday1533',\n",
       "       'thursday1534', 'thursday1535'], dtype=object)"
      ]
     },
     "execution_count": 62,
     "metadata": {},
     "output_type": "execute_result"
    }
   ],
   "source": [
    "df1['uniqueID'].unique()"
   ]
  },
  {
   "cell_type": "code",
   "execution_count": 63,
   "id": "af636f06",
   "metadata": {},
   "outputs": [
    {
     "data": {
      "text/html": [
       "<div>\n",
       "<style scoped>\n",
       "    .dataframe tbody tr th:only-of-type {\n",
       "        vertical-align: middle;\n",
       "    }\n",
       "\n",
       "    .dataframe tbody tr th {\n",
       "        vertical-align: top;\n",
       "    }\n",
       "\n",
       "    .dataframe thead th {\n",
       "        text-align: right;\n",
       "    }\n",
       "</style>\n",
       "<table border=\"1\" class=\"dataframe\">\n",
       "  <thead>\n",
       "    <tr style=\"text-align: right;\">\n",
       "      <th></th>\n",
       "      <th>level_0</th>\n",
       "      <th>index</th>\n",
       "      <th>timestamp</th>\n",
       "      <th>weekday</th>\n",
       "      <th>hour</th>\n",
       "      <th>location</th>\n",
       "      <th>customer_no</th>\n",
       "      <th>uniqueID</th>\n",
       "      <th>timespent</th>\n",
       "    </tr>\n",
       "  </thead>\n",
       "  <tbody>\n",
       "    <tr>\n",
       "      <th>22</th>\n",
       "      <td>22</td>\n",
       "      <td>1970-01-01 00:00:00.000000001</td>\n",
       "      <td>2019-09-06 07:00:00</td>\n",
       "      <td>friday</td>\n",
       "      <td>7</td>\n",
       "      <td>drinks</td>\n",
       "      <td>2</td>\n",
       "      <td>friday2</td>\n",
       "      <td>NaT</td>\n",
       "    </tr>\n",
       "    <tr>\n",
       "      <th>23</th>\n",
       "      <td>23</td>\n",
       "      <td>1970-01-01 00:00:00.000000003</td>\n",
       "      <td>2019-09-06 07:01:00</td>\n",
       "      <td>friday</td>\n",
       "      <td>7</td>\n",
       "      <td>checkout</td>\n",
       "      <td>2</td>\n",
       "      <td>friday2</td>\n",
       "      <td>0 days 00:01:00</td>\n",
       "    </tr>\n",
       "  </tbody>\n",
       "</table>\n",
       "</div>"
      ],
      "text/plain": [
       "    level_0                         index           timestamp weekday  hour  \\\n",
       "22       22 1970-01-01 00:00:00.000000001 2019-09-06 07:00:00  friday     7   \n",
       "23       23 1970-01-01 00:00:00.000000003 2019-09-06 07:01:00  friday     7   \n",
       "\n",
       "    location  customer_no uniqueID       timespent  \n",
       "22    drinks            2  friday2             NaT  \n",
       "23  checkout            2  friday2 0 days 00:01:00  "
      ]
     },
     "execution_count": 63,
     "metadata": {},
     "output_type": "execute_result"
    }
   ],
   "source": [
    "df1[df1['uniqueID']=='friday2']"
   ]
  },
  {
   "cell_type": "code",
   "execution_count": null,
   "id": "9388c8d0",
   "metadata": {},
   "outputs": [],
   "source": []
  },
  {
   "cell_type": "code",
   "execution_count": 64,
   "id": "af0dc153",
   "metadata": {},
   "outputs": [
    {
     "data": {
      "text/html": [
       "<div>\n",
       "<style scoped>\n",
       "    .dataframe tbody tr th:only-of-type {\n",
       "        vertical-align: middle;\n",
       "    }\n",
       "\n",
       "    .dataframe tbody tr th {\n",
       "        vertical-align: top;\n",
       "    }\n",
       "\n",
       "    .dataframe thead th {\n",
       "        text-align: right;\n",
       "    }\n",
       "</style>\n",
       "<table border=\"1\" class=\"dataframe\">\n",
       "  <thead>\n",
       "    <tr style=\"text-align: right;\">\n",
       "      <th></th>\n",
       "      <th>weekday</th>\n",
       "      <th>uniqueID</th>\n",
       "      <th>timestamp</th>\n",
       "    </tr>\n",
       "  </thead>\n",
       "  <tbody>\n",
       "    <tr>\n",
       "      <th>0</th>\n",
       "      <td>friday</td>\n",
       "      <td>friday1</td>\n",
       "      <td>5.0</td>\n",
       "    </tr>\n",
       "    <tr>\n",
       "      <th>1</th>\n",
       "      <td>friday</td>\n",
       "      <td>friday10</td>\n",
       "      <td>5.0</td>\n",
       "    </tr>\n",
       "    <tr>\n",
       "      <th>2</th>\n",
       "      <td>friday</td>\n",
       "      <td>friday100</td>\n",
       "      <td>1.0</td>\n",
       "    </tr>\n",
       "    <tr>\n",
       "      <th>3</th>\n",
       "      <td>friday</td>\n",
       "      <td>friday1000</td>\n",
       "      <td>1.0</td>\n",
       "    </tr>\n",
       "    <tr>\n",
       "      <th>4</th>\n",
       "      <td>friday</td>\n",
       "      <td>friday1001</td>\n",
       "      <td>10.0</td>\n",
       "    </tr>\n",
       "    <tr>\n",
       "      <th>...</th>\n",
       "      <td>...</td>\n",
       "      <td>...</td>\n",
       "      <td>...</td>\n",
       "    </tr>\n",
       "    <tr>\n",
       "      <th>7440</th>\n",
       "      <td>wednesday</td>\n",
       "      <td>wednesday995</td>\n",
       "      <td>28.0</td>\n",
       "    </tr>\n",
       "    <tr>\n",
       "      <th>7441</th>\n",
       "      <td>wednesday</td>\n",
       "      <td>wednesday996</td>\n",
       "      <td>11.0</td>\n",
       "    </tr>\n",
       "    <tr>\n",
       "      <th>7442</th>\n",
       "      <td>wednesday</td>\n",
       "      <td>wednesday997</td>\n",
       "      <td>22.0</td>\n",
       "    </tr>\n",
       "    <tr>\n",
       "      <th>7443</th>\n",
       "      <td>wednesday</td>\n",
       "      <td>wednesday998</td>\n",
       "      <td>6.0</td>\n",
       "    </tr>\n",
       "    <tr>\n",
       "      <th>7444</th>\n",
       "      <td>wednesday</td>\n",
       "      <td>wednesday999</td>\n",
       "      <td>1.0</td>\n",
       "    </tr>\n",
       "  </tbody>\n",
       "</table>\n",
       "<p>7445 rows × 3 columns</p>\n",
       "</div>"
      ],
      "text/plain": [
       "        weekday      uniqueID  timestamp\n",
       "0        friday       friday1        5.0\n",
       "1        friday      friday10        5.0\n",
       "2        friday     friday100        1.0\n",
       "3        friday    friday1000        1.0\n",
       "4        friday    friday1001       10.0\n",
       "...         ...           ...        ...\n",
       "7440  wednesday  wednesday995       28.0\n",
       "7441  wednesday  wednesday996       11.0\n",
       "7442  wednesday  wednesday997       22.0\n",
       "7443  wednesday  wednesday998        6.0\n",
       "7444  wednesday  wednesday999        1.0\n",
       "\n",
       "[7445 rows x 3 columns]"
      ]
     },
     "execution_count": 64,
     "metadata": {},
     "output_type": "execute_result"
    }
   ],
   "source": [
    "time_spent_in_market= df1.groupby(['weekday','uniqueID'])['timestamp'].apply(lambda x: x.max() - x.min()).dt.seconds/60\n",
    "time_spent_in_market=pd.DataFrame(time_spent_in_market).reset_index()\n",
    "time_spent_in_market"
   ]
  },
  {
   "cell_type": "code",
   "execution_count": 23,
   "id": "974801ca",
   "metadata": {
    "scrolled": false
   },
   "outputs": [
    {
     "data": {
      "text/html": [
       "<div>\n",
       "<style scoped>\n",
       "    .dataframe tbody tr th:only-of-type {\n",
       "        vertical-align: middle;\n",
       "    }\n",
       "\n",
       "    .dataframe tbody tr th {\n",
       "        vertical-align: top;\n",
       "    }\n",
       "\n",
       "    .dataframe thead th {\n",
       "        text-align: right;\n",
       "    }\n",
       "</style>\n",
       "<table border=\"1\" class=\"dataframe\">\n",
       "  <thead>\n",
       "    <tr style=\"text-align: right;\">\n",
       "      <th></th>\n",
       "      <th>weekday</th>\n",
       "      <th>uniqueID</th>\n",
       "      <th>timestamp</th>\n",
       "    </tr>\n",
       "  </thead>\n",
       "  <tbody>\n",
       "    <tr>\n",
       "      <th>1510</th>\n",
       "      <td>monday</td>\n",
       "      <td>monday1</td>\n",
       "      <td>2.0</td>\n",
       "    </tr>\n",
       "  </tbody>\n",
       "</table>\n",
       "</div>"
      ],
      "text/plain": [
       "     weekday uniqueID  timestamp\n",
       "1510  monday  monday1        2.0"
      ]
     },
     "execution_count": 23,
     "metadata": {},
     "output_type": "execute_result"
    }
   ],
   "source": [
    "time_spent_in_market[time_spent_in_market['uniqueID']=='monday1']"
   ]
  },
  {
   "cell_type": "code",
   "execution_count": null,
   "id": "d0618d4d",
   "metadata": {},
   "outputs": [],
   "source": []
  },
  {
   "cell_type": "code",
   "execution_count": null,
   "id": "43a5c365",
   "metadata": {},
   "outputs": [],
   "source": []
  },
  {
   "cell_type": "markdown",
   "id": "1619665c",
   "metadata": {},
   "source": [
    "**Calculate the total number of customers in the supermarket over time.**"
   ]
  },
  {
   "cell_type": "code",
   "execution_count": 24,
   "id": "c4c4282a",
   "metadata": {},
   "outputs": [],
   "source": [
    "dff=df[['year','month','week','weekday','hour','minutes','customer_no']]\n",
    "dff['uniqueID']=df['weekday']+df['customer_no'].astype(str)\n",
    "dff.drop_duplicates(subset='uniqueID', keep=\"last\",inplace=True)"
   ]
  },
  {
   "cell_type": "code",
   "execution_count": 25,
   "id": "3c37caae",
   "metadata": {},
   "outputs": [],
   "source": [
    "dff['totalcustomers'] = np.where(dff.uniqueID.is_unique,dff.uniqueID.is_unique,1)"
   ]
  },
  {
   "cell_type": "code",
   "execution_count": 26,
   "id": "3dd3dfb4",
   "metadata": {
    "scrolled": true
   },
   "outputs": [
    {
     "data": {
      "text/html": [
       "<div>\n",
       "<style scoped>\n",
       "    .dataframe tbody tr th:only-of-type {\n",
       "        vertical-align: middle;\n",
       "    }\n",
       "\n",
       "    .dataframe tbody tr th {\n",
       "        vertical-align: top;\n",
       "    }\n",
       "\n",
       "    .dataframe thead th {\n",
       "        text-align: right;\n",
       "    }\n",
       "</style>\n",
       "<table border=\"1\" class=\"dataframe\">\n",
       "  <thead>\n",
       "    <tr style=\"text-align: right;\">\n",
       "      <th></th>\n",
       "      <th>index</th>\n",
       "      <th>year</th>\n",
       "      <th>month</th>\n",
       "      <th>week</th>\n",
       "      <th>weekday</th>\n",
       "      <th>hour</th>\n",
       "      <th>minutes</th>\n",
       "      <th>customer_no</th>\n",
       "      <th>uniqueID</th>\n",
       "      <th>totalcustomers</th>\n",
       "    </tr>\n",
       "  </thead>\n",
       "  <tbody>\n",
       "    <tr>\n",
       "      <th>0</th>\n",
       "      <td>1970-01-01 00:00:00.000000008</td>\n",
       "      <td>2019</td>\n",
       "      <td>9</td>\n",
       "      <td>36</td>\n",
       "      <td>monday</td>\n",
       "      <td>7</td>\n",
       "      <td>5</td>\n",
       "      <td>1</td>\n",
       "      <td>monday1</td>\n",
       "      <td>1</td>\n",
       "    </tr>\n",
       "    <tr>\n",
       "      <th>1</th>\n",
       "      <td>1970-01-01 00:00:00.000000009</td>\n",
       "      <td>2019</td>\n",
       "      <td>9</td>\n",
       "      <td>36</td>\n",
       "      <td>monday</td>\n",
       "      <td>7</td>\n",
       "      <td>5</td>\n",
       "      <td>5</td>\n",
       "      <td>monday5</td>\n",
       "      <td>1</td>\n",
       "    </tr>\n",
       "    <tr>\n",
       "      <th>2</th>\n",
       "      <td>1970-01-01 00:00:00.000000013</td>\n",
       "      <td>2019</td>\n",
       "      <td>9</td>\n",
       "      <td>36</td>\n",
       "      <td>monday</td>\n",
       "      <td>7</td>\n",
       "      <td>6</td>\n",
       "      <td>3</td>\n",
       "      <td>monday3</td>\n",
       "      <td>1</td>\n",
       "    </tr>\n",
       "    <tr>\n",
       "      <th>3</th>\n",
       "      <td>1970-01-01 00:00:00.000000012</td>\n",
       "      <td>2019</td>\n",
       "      <td>9</td>\n",
       "      <td>36</td>\n",
       "      <td>monday</td>\n",
       "      <td>7</td>\n",
       "      <td>6</td>\n",
       "      <td>2</td>\n",
       "      <td>monday2</td>\n",
       "      <td>1</td>\n",
       "    </tr>\n",
       "    <tr>\n",
       "      <th>4</th>\n",
       "      <td>1970-01-01 00:00:00.000000020</td>\n",
       "      <td>2019</td>\n",
       "      <td>9</td>\n",
       "      <td>36</td>\n",
       "      <td>monday</td>\n",
       "      <td>7</td>\n",
       "      <td>7</td>\n",
       "      <td>8</td>\n",
       "      <td>monday8</td>\n",
       "      <td>1</td>\n",
       "    </tr>\n",
       "    <tr>\n",
       "      <th>...</th>\n",
       "      <td>...</td>\n",
       "      <td>...</td>\n",
       "      <td>...</td>\n",
       "      <td>...</td>\n",
       "      <td>...</td>\n",
       "      <td>...</td>\n",
       "      <td>...</td>\n",
       "      <td>...</td>\n",
       "      <td>...</td>\n",
       "      <td>...</td>\n",
       "    </tr>\n",
       "    <tr>\n",
       "      <th>7440</th>\n",
       "      <td>1970-01-01 00:00:00.000005121</td>\n",
       "      <td>2019</td>\n",
       "      <td>9</td>\n",
       "      <td>36</td>\n",
       "      <td>friday</td>\n",
       "      <td>21</td>\n",
       "      <td>50</td>\n",
       "      <td>1507</td>\n",
       "      <td>friday1507</td>\n",
       "      <td>1</td>\n",
       "    </tr>\n",
       "    <tr>\n",
       "      <th>7441</th>\n",
       "      <td>1970-01-01 00:00:00.000005123</td>\n",
       "      <td>2019</td>\n",
       "      <td>9</td>\n",
       "      <td>36</td>\n",
       "      <td>friday</td>\n",
       "      <td>21</td>\n",
       "      <td>50</td>\n",
       "      <td>1509</td>\n",
       "      <td>friday1509</td>\n",
       "      <td>1</td>\n",
       "    </tr>\n",
       "    <tr>\n",
       "      <th>7442</th>\n",
       "      <td>1970-01-01 00:00:00.000005119</td>\n",
       "      <td>2019</td>\n",
       "      <td>9</td>\n",
       "      <td>36</td>\n",
       "      <td>friday</td>\n",
       "      <td>21</td>\n",
       "      <td>50</td>\n",
       "      <td>1496</td>\n",
       "      <td>friday1496</td>\n",
       "      <td>1</td>\n",
       "    </tr>\n",
       "    <tr>\n",
       "      <th>7443</th>\n",
       "      <td>1970-01-01 00:00:00.000005120</td>\n",
       "      <td>2019</td>\n",
       "      <td>9</td>\n",
       "      <td>36</td>\n",
       "      <td>friday</td>\n",
       "      <td>21</td>\n",
       "      <td>50</td>\n",
       "      <td>1500</td>\n",
       "      <td>friday1500</td>\n",
       "      <td>1</td>\n",
       "    </tr>\n",
       "    <tr>\n",
       "      <th>7444</th>\n",
       "      <td>1970-01-01 00:00:00.000005124</td>\n",
       "      <td>2019</td>\n",
       "      <td>9</td>\n",
       "      <td>36</td>\n",
       "      <td>friday</td>\n",
       "      <td>21</td>\n",
       "      <td>50</td>\n",
       "      <td>1510</td>\n",
       "      <td>friday1510</td>\n",
       "      <td>1</td>\n",
       "    </tr>\n",
       "  </tbody>\n",
       "</table>\n",
       "<p>7445 rows × 10 columns</p>\n",
       "</div>"
      ],
      "text/plain": [
       "                             index  year  month  week weekday  hour  minutes  \\\n",
       "0    1970-01-01 00:00:00.000000008  2019      9    36  monday     7        5   \n",
       "1    1970-01-01 00:00:00.000000009  2019      9    36  monday     7        5   \n",
       "2    1970-01-01 00:00:00.000000013  2019      9    36  monday     7        6   \n",
       "3    1970-01-01 00:00:00.000000012  2019      9    36  monday     7        6   \n",
       "4    1970-01-01 00:00:00.000000020  2019      9    36  monday     7        7   \n",
       "...                            ...   ...    ...   ...     ...   ...      ...   \n",
       "7440 1970-01-01 00:00:00.000005121  2019      9    36  friday    21       50   \n",
       "7441 1970-01-01 00:00:00.000005123  2019      9    36  friday    21       50   \n",
       "7442 1970-01-01 00:00:00.000005119  2019      9    36  friday    21       50   \n",
       "7443 1970-01-01 00:00:00.000005120  2019      9    36  friday    21       50   \n",
       "7444 1970-01-01 00:00:00.000005124  2019      9    36  friday    21       50   \n",
       "\n",
       "      customer_no    uniqueID  totalcustomers  \n",
       "0               1     monday1               1  \n",
       "1               5     monday5               1  \n",
       "2               3     monday3               1  \n",
       "3               2     monday2               1  \n",
       "4               8     monday8               1  \n",
       "...           ...         ...             ...  \n",
       "7440         1507  friday1507               1  \n",
       "7441         1509  friday1509               1  \n",
       "7442         1496  friday1496               1  \n",
       "7443         1500  friday1500               1  \n",
       "7444         1510  friday1510               1  \n",
       "\n",
       "[7445 rows x 10 columns]"
      ]
     },
     "execution_count": 26,
     "metadata": {},
     "output_type": "execute_result"
    }
   ],
   "source": [
    "dff.reset_index()"
   ]
  },
  {
   "cell_type": "code",
   "execution_count": 27,
   "id": "d5ec9321",
   "metadata": {},
   "outputs": [
    {
     "data": {
      "application/vnd.plotly.v1+json": {
       "config": {
        "plotlyServerURL": "https://plot.ly"
       },
       "data": [
        {
         "branchvalues": "total",
         "domain": {
          "x": [
           0,
           1
          ],
          "y": [
           0,
           1
          ]
         },
         "hovertemplate": "labels=%{label}<br>totalcustomers=%{value}<br>parent=%{parent}<br>id=%{id}<extra></extra>",
         "ids": [
          "2019/9/36/friday/7",
          "2019/9/36/monday/7",
          "2019/9/36/thursday/7",
          "2019/9/36/tuesday/7",
          "2019/9/36/wednesday/7",
          "2019/9/36/friday/8",
          "2019/9/36/monday/8",
          "2019/9/36/thursday/8",
          "2019/9/36/tuesday/8",
          "2019/9/36/wednesday/8",
          "2019/9/36/friday/9",
          "2019/9/36/monday/9",
          "2019/9/36/thursday/9",
          "2019/9/36/tuesday/9",
          "2019/9/36/wednesday/9",
          "2019/9/36/friday/10",
          "2019/9/36/monday/10",
          "2019/9/36/thursday/10",
          "2019/9/36/tuesday/10",
          "2019/9/36/wednesday/10",
          "2019/9/36/friday/11",
          "2019/9/36/monday/11",
          "2019/9/36/thursday/11",
          "2019/9/36/tuesday/11",
          "2019/9/36/wednesday/11",
          "2019/9/36/friday/12",
          "2019/9/36/monday/12",
          "2019/9/36/thursday/12",
          "2019/9/36/tuesday/12",
          "2019/9/36/wednesday/12",
          "2019/9/36/friday/13",
          "2019/9/36/monday/13",
          "2019/9/36/thursday/13",
          "2019/9/36/tuesday/13",
          "2019/9/36/wednesday/13",
          "2019/9/36/friday/14",
          "2019/9/36/monday/14",
          "2019/9/36/thursday/14",
          "2019/9/36/tuesday/14",
          "2019/9/36/wednesday/14",
          "2019/9/36/friday/15",
          "2019/9/36/monday/15",
          "2019/9/36/thursday/15",
          "2019/9/36/tuesday/15",
          "2019/9/36/wednesday/15",
          "2019/9/36/friday/16",
          "2019/9/36/monday/16",
          "2019/9/36/thursday/16",
          "2019/9/36/tuesday/16",
          "2019/9/36/wednesday/16",
          "2019/9/36/friday/17",
          "2019/9/36/monday/17",
          "2019/9/36/thursday/17",
          "2019/9/36/tuesday/17",
          "2019/9/36/wednesday/17",
          "2019/9/36/friday/18",
          "2019/9/36/monday/18",
          "2019/9/36/thursday/18",
          "2019/9/36/tuesday/18",
          "2019/9/36/wednesday/18",
          "2019/9/36/friday/19",
          "2019/9/36/monday/19",
          "2019/9/36/thursday/19",
          "2019/9/36/tuesday/19",
          "2019/9/36/wednesday/19",
          "2019/9/36/friday/20",
          "2019/9/36/monday/20",
          "2019/9/36/thursday/20",
          "2019/9/36/tuesday/20",
          "2019/9/36/wednesday/20",
          "2019/9/36/friday/21",
          "2019/9/36/monday/21",
          "2019/9/36/thursday/21",
          "2019/9/36/tuesday/21",
          "2019/9/36/wednesday/21",
          "2019/9/36/friday",
          "2019/9/36/monday",
          "2019/9/36/thursday",
          "2019/9/36/tuesday",
          "2019/9/36/wednesday",
          "2019/9/36",
          "2019/9",
          "2019"
         ],
         "labels": [
          "7",
          "7",
          "7",
          "7",
          "7",
          "8",
          "8",
          "8",
          "8",
          "8",
          "9",
          "9",
          "9",
          "9",
          "9",
          "10",
          "10",
          "10",
          "10",
          "10",
          "11",
          "11",
          "11",
          "11",
          "11",
          "12",
          "12",
          "12",
          "12",
          "12",
          "13",
          "13",
          "13",
          "13",
          "13",
          "14",
          "14",
          "14",
          "14",
          "14",
          "15",
          "15",
          "15",
          "15",
          "15",
          "16",
          "16",
          "16",
          "16",
          "16",
          "17",
          "17",
          "17",
          "17",
          "17",
          "18",
          "18",
          "18",
          "18",
          "18",
          "19",
          "19",
          "19",
          "19",
          "19",
          "20",
          "20",
          "20",
          "20",
          "20",
          "21",
          "21",
          "21",
          "21",
          "21",
          "friday",
          "monday",
          "thursday",
          "tuesday",
          "wednesday",
          "36",
          "9",
          "2019"
         ],
         "name": "",
         "parents": [
          "2019/9/36/friday",
          "2019/9/36/monday",
          "2019/9/36/thursday",
          "2019/9/36/tuesday",
          "2019/9/36/wednesday",
          "2019/9/36/friday",
          "2019/9/36/monday",
          "2019/9/36/thursday",
          "2019/9/36/tuesday",
          "2019/9/36/wednesday",
          "2019/9/36/friday",
          "2019/9/36/monday",
          "2019/9/36/thursday",
          "2019/9/36/tuesday",
          "2019/9/36/wednesday",
          "2019/9/36/friday",
          "2019/9/36/monday",
          "2019/9/36/thursday",
          "2019/9/36/tuesday",
          "2019/9/36/wednesday",
          "2019/9/36/friday",
          "2019/9/36/monday",
          "2019/9/36/thursday",
          "2019/9/36/tuesday",
          "2019/9/36/wednesday",
          "2019/9/36/friday",
          "2019/9/36/monday",
          "2019/9/36/thursday",
          "2019/9/36/tuesday",
          "2019/9/36/wednesday",
          "2019/9/36/friday",
          "2019/9/36/monday",
          "2019/9/36/thursday",
          "2019/9/36/tuesday",
          "2019/9/36/wednesday",
          "2019/9/36/friday",
          "2019/9/36/monday",
          "2019/9/36/thursday",
          "2019/9/36/tuesday",
          "2019/9/36/wednesday",
          "2019/9/36/friday",
          "2019/9/36/monday",
          "2019/9/36/thursday",
          "2019/9/36/tuesday",
          "2019/9/36/wednesday",
          "2019/9/36/friday",
          "2019/9/36/monday",
          "2019/9/36/thursday",
          "2019/9/36/tuesday",
          "2019/9/36/wednesday",
          "2019/9/36/friday",
          "2019/9/36/monday",
          "2019/9/36/thursday",
          "2019/9/36/tuesday",
          "2019/9/36/wednesday",
          "2019/9/36/friday",
          "2019/9/36/monday",
          "2019/9/36/thursday",
          "2019/9/36/tuesday",
          "2019/9/36/wednesday",
          "2019/9/36/friday",
          "2019/9/36/monday",
          "2019/9/36/thursday",
          "2019/9/36/tuesday",
          "2019/9/36/wednesday",
          "2019/9/36/friday",
          "2019/9/36/monday",
          "2019/9/36/thursday",
          "2019/9/36/tuesday",
          "2019/9/36/wednesday",
          "2019/9/36/friday",
          "2019/9/36/monday",
          "2019/9/36/thursday",
          "2019/9/36/tuesday",
          "2019/9/36/wednesday",
          "2019/9/36",
          "2019/9/36",
          "2019/9/36",
          "2019/9/36",
          "2019/9/36",
          "2019/9",
          "2019",
          ""
         ],
         "type": "sunburst",
         "values": [
          87,
          92,
          99,
          91,
          85,
          132,
          112,
          139,
          129,
          165,
          82,
          85,
          105,
          77,
          106,
          80,
          90,
          91,
          81,
          85,
          79,
          55,
          73,
          47,
          88,
          90,
          73,
          72,
          60,
          89,
          108,
          120,
          80,
          104,
          102,
          108,
          90,
          83,
          110,
          105,
          81,
          94,
          86,
          72,
          79,
          102,
          86,
          118,
          118,
          94,
          115,
          122,
          112,
          109,
          98,
          148,
          128,
          123,
          134,
          97,
          135,
          129,
          172,
          127,
          192,
          103,
          109,
          96,
          99,
          85,
          60,
          62,
          86,
          64,
          61,
          1510,
          1447,
          1535,
          1422,
          1531,
          7445,
          7445,
          7445
         ]
        }
       ],
       "layout": {
        "height": 800,
        "legend": {
         "tracegroupgap": 0
        },
        "margin": {
         "t": 60
        },
        "template": {
         "data": {
          "bar": [
           {
            "error_x": {
             "color": "#2a3f5f"
            },
            "error_y": {
             "color": "#2a3f5f"
            },
            "marker": {
             "line": {
              "color": "#E5ECF6",
              "width": 0.5
             },
             "pattern": {
              "fillmode": "overlay",
              "size": 10,
              "solidity": 0.2
             }
            },
            "type": "bar"
           }
          ],
          "barpolar": [
           {
            "marker": {
             "line": {
              "color": "#E5ECF6",
              "width": 0.5
             },
             "pattern": {
              "fillmode": "overlay",
              "size": 10,
              "solidity": 0.2
             }
            },
            "type": "barpolar"
           }
          ],
          "carpet": [
           {
            "aaxis": {
             "endlinecolor": "#2a3f5f",
             "gridcolor": "white",
             "linecolor": "white",
             "minorgridcolor": "white",
             "startlinecolor": "#2a3f5f"
            },
            "baxis": {
             "endlinecolor": "#2a3f5f",
             "gridcolor": "white",
             "linecolor": "white",
             "minorgridcolor": "white",
             "startlinecolor": "#2a3f5f"
            },
            "type": "carpet"
           }
          ],
          "choropleth": [
           {
            "colorbar": {
             "outlinewidth": 0,
             "ticks": ""
            },
            "type": "choropleth"
           }
          ],
          "contour": [
           {
            "colorbar": {
             "outlinewidth": 0,
             "ticks": ""
            },
            "colorscale": [
             [
              0,
              "#0d0887"
             ],
             [
              0.1111111111111111,
              "#46039f"
             ],
             [
              0.2222222222222222,
              "#7201a8"
             ],
             [
              0.3333333333333333,
              "#9c179e"
             ],
             [
              0.4444444444444444,
              "#bd3786"
             ],
             [
              0.5555555555555556,
              "#d8576b"
             ],
             [
              0.6666666666666666,
              "#ed7953"
             ],
             [
              0.7777777777777778,
              "#fb9f3a"
             ],
             [
              0.8888888888888888,
              "#fdca26"
             ],
             [
              1,
              "#f0f921"
             ]
            ],
            "type": "contour"
           }
          ],
          "contourcarpet": [
           {
            "colorbar": {
             "outlinewidth": 0,
             "ticks": ""
            },
            "type": "contourcarpet"
           }
          ],
          "heatmap": [
           {
            "colorbar": {
             "outlinewidth": 0,
             "ticks": ""
            },
            "colorscale": [
             [
              0,
              "#0d0887"
             ],
             [
              0.1111111111111111,
              "#46039f"
             ],
             [
              0.2222222222222222,
              "#7201a8"
             ],
             [
              0.3333333333333333,
              "#9c179e"
             ],
             [
              0.4444444444444444,
              "#bd3786"
             ],
             [
              0.5555555555555556,
              "#d8576b"
             ],
             [
              0.6666666666666666,
              "#ed7953"
             ],
             [
              0.7777777777777778,
              "#fb9f3a"
             ],
             [
              0.8888888888888888,
              "#fdca26"
             ],
             [
              1,
              "#f0f921"
             ]
            ],
            "type": "heatmap"
           }
          ],
          "heatmapgl": [
           {
            "colorbar": {
             "outlinewidth": 0,
             "ticks": ""
            },
            "colorscale": [
             [
              0,
              "#0d0887"
             ],
             [
              0.1111111111111111,
              "#46039f"
             ],
             [
              0.2222222222222222,
              "#7201a8"
             ],
             [
              0.3333333333333333,
              "#9c179e"
             ],
             [
              0.4444444444444444,
              "#bd3786"
             ],
             [
              0.5555555555555556,
              "#d8576b"
             ],
             [
              0.6666666666666666,
              "#ed7953"
             ],
             [
              0.7777777777777778,
              "#fb9f3a"
             ],
             [
              0.8888888888888888,
              "#fdca26"
             ],
             [
              1,
              "#f0f921"
             ]
            ],
            "type": "heatmapgl"
           }
          ],
          "histogram": [
           {
            "marker": {
             "pattern": {
              "fillmode": "overlay",
              "size": 10,
              "solidity": 0.2
             }
            },
            "type": "histogram"
           }
          ],
          "histogram2d": [
           {
            "colorbar": {
             "outlinewidth": 0,
             "ticks": ""
            },
            "colorscale": [
             [
              0,
              "#0d0887"
             ],
             [
              0.1111111111111111,
              "#46039f"
             ],
             [
              0.2222222222222222,
              "#7201a8"
             ],
             [
              0.3333333333333333,
              "#9c179e"
             ],
             [
              0.4444444444444444,
              "#bd3786"
             ],
             [
              0.5555555555555556,
              "#d8576b"
             ],
             [
              0.6666666666666666,
              "#ed7953"
             ],
             [
              0.7777777777777778,
              "#fb9f3a"
             ],
             [
              0.8888888888888888,
              "#fdca26"
             ],
             [
              1,
              "#f0f921"
             ]
            ],
            "type": "histogram2d"
           }
          ],
          "histogram2dcontour": [
           {
            "colorbar": {
             "outlinewidth": 0,
             "ticks": ""
            },
            "colorscale": [
             [
              0,
              "#0d0887"
             ],
             [
              0.1111111111111111,
              "#46039f"
             ],
             [
              0.2222222222222222,
              "#7201a8"
             ],
             [
              0.3333333333333333,
              "#9c179e"
             ],
             [
              0.4444444444444444,
              "#bd3786"
             ],
             [
              0.5555555555555556,
              "#d8576b"
             ],
             [
              0.6666666666666666,
              "#ed7953"
             ],
             [
              0.7777777777777778,
              "#fb9f3a"
             ],
             [
              0.8888888888888888,
              "#fdca26"
             ],
             [
              1,
              "#f0f921"
             ]
            ],
            "type": "histogram2dcontour"
           }
          ],
          "mesh3d": [
           {
            "colorbar": {
             "outlinewidth": 0,
             "ticks": ""
            },
            "type": "mesh3d"
           }
          ],
          "parcoords": [
           {
            "line": {
             "colorbar": {
              "outlinewidth": 0,
              "ticks": ""
             }
            },
            "type": "parcoords"
           }
          ],
          "pie": [
           {
            "automargin": true,
            "type": "pie"
           }
          ],
          "scatter": [
           {
            "marker": {
             "colorbar": {
              "outlinewidth": 0,
              "ticks": ""
             }
            },
            "type": "scatter"
           }
          ],
          "scatter3d": [
           {
            "line": {
             "colorbar": {
              "outlinewidth": 0,
              "ticks": ""
             }
            },
            "marker": {
             "colorbar": {
              "outlinewidth": 0,
              "ticks": ""
             }
            },
            "type": "scatter3d"
           }
          ],
          "scattercarpet": [
           {
            "marker": {
             "colorbar": {
              "outlinewidth": 0,
              "ticks": ""
             }
            },
            "type": "scattercarpet"
           }
          ],
          "scattergeo": [
           {
            "marker": {
             "colorbar": {
              "outlinewidth": 0,
              "ticks": ""
             }
            },
            "type": "scattergeo"
           }
          ],
          "scattergl": [
           {
            "marker": {
             "colorbar": {
              "outlinewidth": 0,
              "ticks": ""
             }
            },
            "type": "scattergl"
           }
          ],
          "scattermapbox": [
           {
            "marker": {
             "colorbar": {
              "outlinewidth": 0,
              "ticks": ""
             }
            },
            "type": "scattermapbox"
           }
          ],
          "scatterpolar": [
           {
            "marker": {
             "colorbar": {
              "outlinewidth": 0,
              "ticks": ""
             }
            },
            "type": "scatterpolar"
           }
          ],
          "scatterpolargl": [
           {
            "marker": {
             "colorbar": {
              "outlinewidth": 0,
              "ticks": ""
             }
            },
            "type": "scatterpolargl"
           }
          ],
          "scatterternary": [
           {
            "marker": {
             "colorbar": {
              "outlinewidth": 0,
              "ticks": ""
             }
            },
            "type": "scatterternary"
           }
          ],
          "surface": [
           {
            "colorbar": {
             "outlinewidth": 0,
             "ticks": ""
            },
            "colorscale": [
             [
              0,
              "#0d0887"
             ],
             [
              0.1111111111111111,
              "#46039f"
             ],
             [
              0.2222222222222222,
              "#7201a8"
             ],
             [
              0.3333333333333333,
              "#9c179e"
             ],
             [
              0.4444444444444444,
              "#bd3786"
             ],
             [
              0.5555555555555556,
              "#d8576b"
             ],
             [
              0.6666666666666666,
              "#ed7953"
             ],
             [
              0.7777777777777778,
              "#fb9f3a"
             ],
             [
              0.8888888888888888,
              "#fdca26"
             ],
             [
              1,
              "#f0f921"
             ]
            ],
            "type": "surface"
           }
          ],
          "table": [
           {
            "cells": {
             "fill": {
              "color": "#EBF0F8"
             },
             "line": {
              "color": "white"
             }
            },
            "header": {
             "fill": {
              "color": "#C8D4E3"
             },
             "line": {
              "color": "white"
             }
            },
            "type": "table"
           }
          ]
         },
         "layout": {
          "annotationdefaults": {
           "arrowcolor": "#2a3f5f",
           "arrowhead": 0,
           "arrowwidth": 1
          },
          "autotypenumbers": "strict",
          "coloraxis": {
           "colorbar": {
            "outlinewidth": 0,
            "ticks": ""
           }
          },
          "colorscale": {
           "diverging": [
            [
             0,
             "#8e0152"
            ],
            [
             0.1,
             "#c51b7d"
            ],
            [
             0.2,
             "#de77ae"
            ],
            [
             0.3,
             "#f1b6da"
            ],
            [
             0.4,
             "#fde0ef"
            ],
            [
             0.5,
             "#f7f7f7"
            ],
            [
             0.6,
             "#e6f5d0"
            ],
            [
             0.7,
             "#b8e186"
            ],
            [
             0.8,
             "#7fbc41"
            ],
            [
             0.9,
             "#4d9221"
            ],
            [
             1,
             "#276419"
            ]
           ],
           "sequential": [
            [
             0,
             "#0d0887"
            ],
            [
             0.1111111111111111,
             "#46039f"
            ],
            [
             0.2222222222222222,
             "#7201a8"
            ],
            [
             0.3333333333333333,
             "#9c179e"
            ],
            [
             0.4444444444444444,
             "#bd3786"
            ],
            [
             0.5555555555555556,
             "#d8576b"
            ],
            [
             0.6666666666666666,
             "#ed7953"
            ],
            [
             0.7777777777777778,
             "#fb9f3a"
            ],
            [
             0.8888888888888888,
             "#fdca26"
            ],
            [
             1,
             "#f0f921"
            ]
           ],
           "sequentialminus": [
            [
             0,
             "#0d0887"
            ],
            [
             0.1111111111111111,
             "#46039f"
            ],
            [
             0.2222222222222222,
             "#7201a8"
            ],
            [
             0.3333333333333333,
             "#9c179e"
            ],
            [
             0.4444444444444444,
             "#bd3786"
            ],
            [
             0.5555555555555556,
             "#d8576b"
            ],
            [
             0.6666666666666666,
             "#ed7953"
            ],
            [
             0.7777777777777778,
             "#fb9f3a"
            ],
            [
             0.8888888888888888,
             "#fdca26"
            ],
            [
             1,
             "#f0f921"
            ]
           ]
          },
          "colorway": [
           "#636efa",
           "#EF553B",
           "#00cc96",
           "#ab63fa",
           "#FFA15A",
           "#19d3f3",
           "#FF6692",
           "#B6E880",
           "#FF97FF",
           "#FECB52"
          ],
          "font": {
           "color": "#2a3f5f"
          },
          "geo": {
           "bgcolor": "white",
           "lakecolor": "white",
           "landcolor": "#E5ECF6",
           "showlakes": true,
           "showland": true,
           "subunitcolor": "white"
          },
          "hoverlabel": {
           "align": "left"
          },
          "hovermode": "closest",
          "mapbox": {
           "style": "light"
          },
          "paper_bgcolor": "white",
          "plot_bgcolor": "#E5ECF6",
          "polar": {
           "angularaxis": {
            "gridcolor": "white",
            "linecolor": "white",
            "ticks": ""
           },
           "bgcolor": "#E5ECF6",
           "radialaxis": {
            "gridcolor": "white",
            "linecolor": "white",
            "ticks": ""
           }
          },
          "scene": {
           "xaxis": {
            "backgroundcolor": "#E5ECF6",
            "gridcolor": "white",
            "gridwidth": 2,
            "linecolor": "white",
            "showbackground": true,
            "ticks": "",
            "zerolinecolor": "white"
           },
           "yaxis": {
            "backgroundcolor": "#E5ECF6",
            "gridcolor": "white",
            "gridwidth": 2,
            "linecolor": "white",
            "showbackground": true,
            "ticks": "",
            "zerolinecolor": "white"
           },
           "zaxis": {
            "backgroundcolor": "#E5ECF6",
            "gridcolor": "white",
            "gridwidth": 2,
            "linecolor": "white",
            "showbackground": true,
            "ticks": "",
            "zerolinecolor": "white"
           }
          },
          "shapedefaults": {
           "line": {
            "color": "#2a3f5f"
           }
          },
          "ternary": {
           "aaxis": {
            "gridcolor": "white",
            "linecolor": "white",
            "ticks": ""
           },
           "baxis": {
            "gridcolor": "white",
            "linecolor": "white",
            "ticks": ""
           },
           "bgcolor": "#E5ECF6",
           "caxis": {
            "gridcolor": "white",
            "linecolor": "white",
            "ticks": ""
           }
          },
          "title": {
           "x": 0.05
          },
          "xaxis": {
           "automargin": true,
           "gridcolor": "white",
           "linecolor": "white",
           "ticks": "",
           "title": {
            "standoff": 15
           },
           "zerolinecolor": "white",
           "zerolinewidth": 2
          },
          "yaxis": {
           "automargin": true,
           "gridcolor": "white",
           "linecolor": "white",
           "ticks": "",
           "title": {
            "standoff": 15
           },
           "zerolinecolor": "white",
           "zerolinewidth": 2
          }
         }
        }
       }
      },
      "text/html": [
       "<div>                            <div id=\"14a4d7a4-9c36-456f-987a-bd876e08167f\" class=\"plotly-graph-div\" style=\"height:800px; width:100%;\"></div>            <script type=\"text/javascript\">                require([\"plotly\"], function(Plotly) {                    window.PLOTLYENV=window.PLOTLYENV || {};                                    if (document.getElementById(\"14a4d7a4-9c36-456f-987a-bd876e08167f\")) {                    Plotly.newPlot(                        \"14a4d7a4-9c36-456f-987a-bd876e08167f\",                        [{\"branchvalues\":\"total\",\"domain\":{\"x\":[0.0,1.0],\"y\":[0.0,1.0]},\"hovertemplate\":\"labels=%{label}<br>totalcustomers=%{value}<br>parent=%{parent}<br>id=%{id}<extra></extra>\",\"ids\":[\"2019/9/36/friday/7\",\"2019/9/36/monday/7\",\"2019/9/36/thursday/7\",\"2019/9/36/tuesday/7\",\"2019/9/36/wednesday/7\",\"2019/9/36/friday/8\",\"2019/9/36/monday/8\",\"2019/9/36/thursday/8\",\"2019/9/36/tuesday/8\",\"2019/9/36/wednesday/8\",\"2019/9/36/friday/9\",\"2019/9/36/monday/9\",\"2019/9/36/thursday/9\",\"2019/9/36/tuesday/9\",\"2019/9/36/wednesday/9\",\"2019/9/36/friday/10\",\"2019/9/36/monday/10\",\"2019/9/36/thursday/10\",\"2019/9/36/tuesday/10\",\"2019/9/36/wednesday/10\",\"2019/9/36/friday/11\",\"2019/9/36/monday/11\",\"2019/9/36/thursday/11\",\"2019/9/36/tuesday/11\",\"2019/9/36/wednesday/11\",\"2019/9/36/friday/12\",\"2019/9/36/monday/12\",\"2019/9/36/thursday/12\",\"2019/9/36/tuesday/12\",\"2019/9/36/wednesday/12\",\"2019/9/36/friday/13\",\"2019/9/36/monday/13\",\"2019/9/36/thursday/13\",\"2019/9/36/tuesday/13\",\"2019/9/36/wednesday/13\",\"2019/9/36/friday/14\",\"2019/9/36/monday/14\",\"2019/9/36/thursday/14\",\"2019/9/36/tuesday/14\",\"2019/9/36/wednesday/14\",\"2019/9/36/friday/15\",\"2019/9/36/monday/15\",\"2019/9/36/thursday/15\",\"2019/9/36/tuesday/15\",\"2019/9/36/wednesday/15\",\"2019/9/36/friday/16\",\"2019/9/36/monday/16\",\"2019/9/36/thursday/16\",\"2019/9/36/tuesday/16\",\"2019/9/36/wednesday/16\",\"2019/9/36/friday/17\",\"2019/9/36/monday/17\",\"2019/9/36/thursday/17\",\"2019/9/36/tuesday/17\",\"2019/9/36/wednesday/17\",\"2019/9/36/friday/18\",\"2019/9/36/monday/18\",\"2019/9/36/thursday/18\",\"2019/9/36/tuesday/18\",\"2019/9/36/wednesday/18\",\"2019/9/36/friday/19\",\"2019/9/36/monday/19\",\"2019/9/36/thursday/19\",\"2019/9/36/tuesday/19\",\"2019/9/36/wednesday/19\",\"2019/9/36/friday/20\",\"2019/9/36/monday/20\",\"2019/9/36/thursday/20\",\"2019/9/36/tuesday/20\",\"2019/9/36/wednesday/20\",\"2019/9/36/friday/21\",\"2019/9/36/monday/21\",\"2019/9/36/thursday/21\",\"2019/9/36/tuesday/21\",\"2019/9/36/wednesday/21\",\"2019/9/36/friday\",\"2019/9/36/monday\",\"2019/9/36/thursday\",\"2019/9/36/tuesday\",\"2019/9/36/wednesday\",\"2019/9/36\",\"2019/9\",\"2019\"],\"labels\":[\"7\",\"7\",\"7\",\"7\",\"7\",\"8\",\"8\",\"8\",\"8\",\"8\",\"9\",\"9\",\"9\",\"9\",\"9\",\"10\",\"10\",\"10\",\"10\",\"10\",\"11\",\"11\",\"11\",\"11\",\"11\",\"12\",\"12\",\"12\",\"12\",\"12\",\"13\",\"13\",\"13\",\"13\",\"13\",\"14\",\"14\",\"14\",\"14\",\"14\",\"15\",\"15\",\"15\",\"15\",\"15\",\"16\",\"16\",\"16\",\"16\",\"16\",\"17\",\"17\",\"17\",\"17\",\"17\",\"18\",\"18\",\"18\",\"18\",\"18\",\"19\",\"19\",\"19\",\"19\",\"19\",\"20\",\"20\",\"20\",\"20\",\"20\",\"21\",\"21\",\"21\",\"21\",\"21\",\"friday\",\"monday\",\"thursday\",\"tuesday\",\"wednesday\",\"36\",\"9\",\"2019\"],\"name\":\"\",\"parents\":[\"2019/9/36/friday\",\"2019/9/36/monday\",\"2019/9/36/thursday\",\"2019/9/36/tuesday\",\"2019/9/36/wednesday\",\"2019/9/36/friday\",\"2019/9/36/monday\",\"2019/9/36/thursday\",\"2019/9/36/tuesday\",\"2019/9/36/wednesday\",\"2019/9/36/friday\",\"2019/9/36/monday\",\"2019/9/36/thursday\",\"2019/9/36/tuesday\",\"2019/9/36/wednesday\",\"2019/9/36/friday\",\"2019/9/36/monday\",\"2019/9/36/thursday\",\"2019/9/36/tuesday\",\"2019/9/36/wednesday\",\"2019/9/36/friday\",\"2019/9/36/monday\",\"2019/9/36/thursday\",\"2019/9/36/tuesday\",\"2019/9/36/wednesday\",\"2019/9/36/friday\",\"2019/9/36/monday\",\"2019/9/36/thursday\",\"2019/9/36/tuesday\",\"2019/9/36/wednesday\",\"2019/9/36/friday\",\"2019/9/36/monday\",\"2019/9/36/thursday\",\"2019/9/36/tuesday\",\"2019/9/36/wednesday\",\"2019/9/36/friday\",\"2019/9/36/monday\",\"2019/9/36/thursday\",\"2019/9/36/tuesday\",\"2019/9/36/wednesday\",\"2019/9/36/friday\",\"2019/9/36/monday\",\"2019/9/36/thursday\",\"2019/9/36/tuesday\",\"2019/9/36/wednesday\",\"2019/9/36/friday\",\"2019/9/36/monday\",\"2019/9/36/thursday\",\"2019/9/36/tuesday\",\"2019/9/36/wednesday\",\"2019/9/36/friday\",\"2019/9/36/monday\",\"2019/9/36/thursday\",\"2019/9/36/tuesday\",\"2019/9/36/wednesday\",\"2019/9/36/friday\",\"2019/9/36/monday\",\"2019/9/36/thursday\",\"2019/9/36/tuesday\",\"2019/9/36/wednesday\",\"2019/9/36/friday\",\"2019/9/36/monday\",\"2019/9/36/thursday\",\"2019/9/36/tuesday\",\"2019/9/36/wednesday\",\"2019/9/36/friday\",\"2019/9/36/monday\",\"2019/9/36/thursday\",\"2019/9/36/tuesday\",\"2019/9/36/wednesday\",\"2019/9/36/friday\",\"2019/9/36/monday\",\"2019/9/36/thursday\",\"2019/9/36/tuesday\",\"2019/9/36/wednesday\",\"2019/9/36\",\"2019/9/36\",\"2019/9/36\",\"2019/9/36\",\"2019/9/36\",\"2019/9\",\"2019\",\"\"],\"values\":[87,92,99,91,85,132,112,139,129,165,82,85,105,77,106,80,90,91,81,85,79,55,73,47,88,90,73,72,60,89,108,120,80,104,102,108,90,83,110,105,81,94,86,72,79,102,86,118,118,94,115,122,112,109,98,148,128,123,134,97,135,129,172,127,192,103,109,96,99,85,60,62,86,64,61,1510,1447,1535,1422,1531,7445,7445,7445],\"type\":\"sunburst\"}],                        {\"template\":{\"data\":{\"bar\":[{\"error_x\":{\"color\":\"#2a3f5f\"},\"error_y\":{\"color\":\"#2a3f5f\"},\"marker\":{\"line\":{\"color\":\"#E5ECF6\",\"width\":0.5},\"pattern\":{\"fillmode\":\"overlay\",\"size\":10,\"solidity\":0.2}},\"type\":\"bar\"}],\"barpolar\":[{\"marker\":{\"line\":{\"color\":\"#E5ECF6\",\"width\":0.5},\"pattern\":{\"fillmode\":\"overlay\",\"size\":10,\"solidity\":0.2}},\"type\":\"barpolar\"}],\"carpet\":[{\"aaxis\":{\"endlinecolor\":\"#2a3f5f\",\"gridcolor\":\"white\",\"linecolor\":\"white\",\"minorgridcolor\":\"white\",\"startlinecolor\":\"#2a3f5f\"},\"baxis\":{\"endlinecolor\":\"#2a3f5f\",\"gridcolor\":\"white\",\"linecolor\":\"white\",\"minorgridcolor\":\"white\",\"startlinecolor\":\"#2a3f5f\"},\"type\":\"carpet\"}],\"choropleth\":[{\"colorbar\":{\"outlinewidth\":0,\"ticks\":\"\"},\"type\":\"choropleth\"}],\"contour\":[{\"colorbar\":{\"outlinewidth\":0,\"ticks\":\"\"},\"colorscale\":[[0.0,\"#0d0887\"],[0.1111111111111111,\"#46039f\"],[0.2222222222222222,\"#7201a8\"],[0.3333333333333333,\"#9c179e\"],[0.4444444444444444,\"#bd3786\"],[0.5555555555555556,\"#d8576b\"],[0.6666666666666666,\"#ed7953\"],[0.7777777777777778,\"#fb9f3a\"],[0.8888888888888888,\"#fdca26\"],[1.0,\"#f0f921\"]],\"type\":\"contour\"}],\"contourcarpet\":[{\"colorbar\":{\"outlinewidth\":0,\"ticks\":\"\"},\"type\":\"contourcarpet\"}],\"heatmap\":[{\"colorbar\":{\"outlinewidth\":0,\"ticks\":\"\"},\"colorscale\":[[0.0,\"#0d0887\"],[0.1111111111111111,\"#46039f\"],[0.2222222222222222,\"#7201a8\"],[0.3333333333333333,\"#9c179e\"],[0.4444444444444444,\"#bd3786\"],[0.5555555555555556,\"#d8576b\"],[0.6666666666666666,\"#ed7953\"],[0.7777777777777778,\"#fb9f3a\"],[0.8888888888888888,\"#fdca26\"],[1.0,\"#f0f921\"]],\"type\":\"heatmap\"}],\"heatmapgl\":[{\"colorbar\":{\"outlinewidth\":0,\"ticks\":\"\"},\"colorscale\":[[0.0,\"#0d0887\"],[0.1111111111111111,\"#46039f\"],[0.2222222222222222,\"#7201a8\"],[0.3333333333333333,\"#9c179e\"],[0.4444444444444444,\"#bd3786\"],[0.5555555555555556,\"#d8576b\"],[0.6666666666666666,\"#ed7953\"],[0.7777777777777778,\"#fb9f3a\"],[0.8888888888888888,\"#fdca26\"],[1.0,\"#f0f921\"]],\"type\":\"heatmapgl\"}],\"histogram\":[{\"marker\":{\"pattern\":{\"fillmode\":\"overlay\",\"size\":10,\"solidity\":0.2}},\"type\":\"histogram\"}],\"histogram2d\":[{\"colorbar\":{\"outlinewidth\":0,\"ticks\":\"\"},\"colorscale\":[[0.0,\"#0d0887\"],[0.1111111111111111,\"#46039f\"],[0.2222222222222222,\"#7201a8\"],[0.3333333333333333,\"#9c179e\"],[0.4444444444444444,\"#bd3786\"],[0.5555555555555556,\"#d8576b\"],[0.6666666666666666,\"#ed7953\"],[0.7777777777777778,\"#fb9f3a\"],[0.8888888888888888,\"#fdca26\"],[1.0,\"#f0f921\"]],\"type\":\"histogram2d\"}],\"histogram2dcontour\":[{\"colorbar\":{\"outlinewidth\":0,\"ticks\":\"\"},\"colorscale\":[[0.0,\"#0d0887\"],[0.1111111111111111,\"#46039f\"],[0.2222222222222222,\"#7201a8\"],[0.3333333333333333,\"#9c179e\"],[0.4444444444444444,\"#bd3786\"],[0.5555555555555556,\"#d8576b\"],[0.6666666666666666,\"#ed7953\"],[0.7777777777777778,\"#fb9f3a\"],[0.8888888888888888,\"#fdca26\"],[1.0,\"#f0f921\"]],\"type\":\"histogram2dcontour\"}],\"mesh3d\":[{\"colorbar\":{\"outlinewidth\":0,\"ticks\":\"\"},\"type\":\"mesh3d\"}],\"parcoords\":[{\"line\":{\"colorbar\":{\"outlinewidth\":0,\"ticks\":\"\"}},\"type\":\"parcoords\"}],\"pie\":[{\"automargin\":true,\"type\":\"pie\"}],\"scatter\":[{\"marker\":{\"colorbar\":{\"outlinewidth\":0,\"ticks\":\"\"}},\"type\":\"scatter\"}],\"scatter3d\":[{\"line\":{\"colorbar\":{\"outlinewidth\":0,\"ticks\":\"\"}},\"marker\":{\"colorbar\":{\"outlinewidth\":0,\"ticks\":\"\"}},\"type\":\"scatter3d\"}],\"scattercarpet\":[{\"marker\":{\"colorbar\":{\"outlinewidth\":0,\"ticks\":\"\"}},\"type\":\"scattercarpet\"}],\"scattergeo\":[{\"marker\":{\"colorbar\":{\"outlinewidth\":0,\"ticks\":\"\"}},\"type\":\"scattergeo\"}],\"scattergl\":[{\"marker\":{\"colorbar\":{\"outlinewidth\":0,\"ticks\":\"\"}},\"type\":\"scattergl\"}],\"scattermapbox\":[{\"marker\":{\"colorbar\":{\"outlinewidth\":0,\"ticks\":\"\"}},\"type\":\"scattermapbox\"}],\"scatterpolar\":[{\"marker\":{\"colorbar\":{\"outlinewidth\":0,\"ticks\":\"\"}},\"type\":\"scatterpolar\"}],\"scatterpolargl\":[{\"marker\":{\"colorbar\":{\"outlinewidth\":0,\"ticks\":\"\"}},\"type\":\"scatterpolargl\"}],\"scatterternary\":[{\"marker\":{\"colorbar\":{\"outlinewidth\":0,\"ticks\":\"\"}},\"type\":\"scatterternary\"}],\"surface\":[{\"colorbar\":{\"outlinewidth\":0,\"ticks\":\"\"},\"colorscale\":[[0.0,\"#0d0887\"],[0.1111111111111111,\"#46039f\"],[0.2222222222222222,\"#7201a8\"],[0.3333333333333333,\"#9c179e\"],[0.4444444444444444,\"#bd3786\"],[0.5555555555555556,\"#d8576b\"],[0.6666666666666666,\"#ed7953\"],[0.7777777777777778,\"#fb9f3a\"],[0.8888888888888888,\"#fdca26\"],[1.0,\"#f0f921\"]],\"type\":\"surface\"}],\"table\":[{\"cells\":{\"fill\":{\"color\":\"#EBF0F8\"},\"line\":{\"color\":\"white\"}},\"header\":{\"fill\":{\"color\":\"#C8D4E3\"},\"line\":{\"color\":\"white\"}},\"type\":\"table\"}]},\"layout\":{\"annotationdefaults\":{\"arrowcolor\":\"#2a3f5f\",\"arrowhead\":0,\"arrowwidth\":1},\"autotypenumbers\":\"strict\",\"coloraxis\":{\"colorbar\":{\"outlinewidth\":0,\"ticks\":\"\"}},\"colorscale\":{\"diverging\":[[0,\"#8e0152\"],[0.1,\"#c51b7d\"],[0.2,\"#de77ae\"],[0.3,\"#f1b6da\"],[0.4,\"#fde0ef\"],[0.5,\"#f7f7f7\"],[0.6,\"#e6f5d0\"],[0.7,\"#b8e186\"],[0.8,\"#7fbc41\"],[0.9,\"#4d9221\"],[1,\"#276419\"]],\"sequential\":[[0.0,\"#0d0887\"],[0.1111111111111111,\"#46039f\"],[0.2222222222222222,\"#7201a8\"],[0.3333333333333333,\"#9c179e\"],[0.4444444444444444,\"#bd3786\"],[0.5555555555555556,\"#d8576b\"],[0.6666666666666666,\"#ed7953\"],[0.7777777777777778,\"#fb9f3a\"],[0.8888888888888888,\"#fdca26\"],[1.0,\"#f0f921\"]],\"sequentialminus\":[[0.0,\"#0d0887\"],[0.1111111111111111,\"#46039f\"],[0.2222222222222222,\"#7201a8\"],[0.3333333333333333,\"#9c179e\"],[0.4444444444444444,\"#bd3786\"],[0.5555555555555556,\"#d8576b\"],[0.6666666666666666,\"#ed7953\"],[0.7777777777777778,\"#fb9f3a\"],[0.8888888888888888,\"#fdca26\"],[1.0,\"#f0f921\"]]},\"colorway\":[\"#636efa\",\"#EF553B\",\"#00cc96\",\"#ab63fa\",\"#FFA15A\",\"#19d3f3\",\"#FF6692\",\"#B6E880\",\"#FF97FF\",\"#FECB52\"],\"font\":{\"color\":\"#2a3f5f\"},\"geo\":{\"bgcolor\":\"white\",\"lakecolor\":\"white\",\"landcolor\":\"#E5ECF6\",\"showlakes\":true,\"showland\":true,\"subunitcolor\":\"white\"},\"hoverlabel\":{\"align\":\"left\"},\"hovermode\":\"closest\",\"mapbox\":{\"style\":\"light\"},\"paper_bgcolor\":\"white\",\"plot_bgcolor\":\"#E5ECF6\",\"polar\":{\"angularaxis\":{\"gridcolor\":\"white\",\"linecolor\":\"white\",\"ticks\":\"\"},\"bgcolor\":\"#E5ECF6\",\"radialaxis\":{\"gridcolor\":\"white\",\"linecolor\":\"white\",\"ticks\":\"\"}},\"scene\":{\"xaxis\":{\"backgroundcolor\":\"#E5ECF6\",\"gridcolor\":\"white\",\"gridwidth\":2,\"linecolor\":\"white\",\"showbackground\":true,\"ticks\":\"\",\"zerolinecolor\":\"white\"},\"yaxis\":{\"backgroundcolor\":\"#E5ECF6\",\"gridcolor\":\"white\",\"gridwidth\":2,\"linecolor\":\"white\",\"showbackground\":true,\"ticks\":\"\",\"zerolinecolor\":\"white\"},\"zaxis\":{\"backgroundcolor\":\"#E5ECF6\",\"gridcolor\":\"white\",\"gridwidth\":2,\"linecolor\":\"white\",\"showbackground\":true,\"ticks\":\"\",\"zerolinecolor\":\"white\"}},\"shapedefaults\":{\"line\":{\"color\":\"#2a3f5f\"}},\"ternary\":{\"aaxis\":{\"gridcolor\":\"white\",\"linecolor\":\"white\",\"ticks\":\"\"},\"baxis\":{\"gridcolor\":\"white\",\"linecolor\":\"white\",\"ticks\":\"\"},\"bgcolor\":\"#E5ECF6\",\"caxis\":{\"gridcolor\":\"white\",\"linecolor\":\"white\",\"ticks\":\"\"}},\"title\":{\"x\":0.05},\"xaxis\":{\"automargin\":true,\"gridcolor\":\"white\",\"linecolor\":\"white\",\"ticks\":\"\",\"title\":{\"standoff\":15},\"zerolinecolor\":\"white\",\"zerolinewidth\":2},\"yaxis\":{\"automargin\":true,\"gridcolor\":\"white\",\"linecolor\":\"white\",\"ticks\":\"\",\"title\":{\"standoff\":15},\"zerolinecolor\":\"white\",\"zerolinewidth\":2}}},\"legend\":{\"tracegroupgap\":0},\"margin\":{\"t\":60},\"height\":800},                        {\"responsive\": true}                    ).then(function(){\n",
       "                            \n",
       "var gd = document.getElementById('14a4d7a4-9c36-456f-987a-bd876e08167f');\n",
       "var x = new MutationObserver(function (mutations, observer) {{\n",
       "        var display = window.getComputedStyle(gd).display;\n",
       "        if (!display || display === 'none') {{\n",
       "            console.log([gd, 'removed!']);\n",
       "            Plotly.purge(gd);\n",
       "            observer.disconnect();\n",
       "        }}\n",
       "}});\n",
       "\n",
       "// Listen for the removal of the full notebook cells\n",
       "var notebookContainer = gd.closest('#notebook-container');\n",
       "if (notebookContainer) {{\n",
       "    x.observe(notebookContainer, {childList: true});\n",
       "}}\n",
       "\n",
       "// Listen for the clearing of the current output cell\n",
       "var outputEl = gd.closest('.output');\n",
       "if (outputEl) {{\n",
       "    x.observe(outputEl, {childList: true});\n",
       "}}\n",
       "\n",
       "                        })                };                });            </script>        </div>"
      ]
     },
     "metadata": {},
     "output_type": "display_data"
    }
   ],
   "source": [
    "fig = px.sunburst(dff, path=['year','month','week','weekday','hour'], values='totalcustomers',height=800)\n",
    "fig.show()"
   ]
  },
  {
   "cell_type": "markdown",
   "id": "90b27386",
   "metadata": {},
   "source": [
    "**Markov Chain Monte Carlo Simulation (MCMC) 🎲**"
   ]
  },
  {
   "cell_type": "code",
   "execution_count": 163,
   "id": "ccd6c7ab",
   "metadata": {},
   "outputs": [
    {
     "data": {
      "text/html": [
       "<div>\n",
       "<style scoped>\n",
       "    .dataframe tbody tr th:only-of-type {\n",
       "        vertical-align: middle;\n",
       "    }\n",
       "\n",
       "    .dataframe tbody tr th {\n",
       "        vertical-align: top;\n",
       "    }\n",
       "\n",
       "    .dataframe thead th {\n",
       "        text-align: right;\n",
       "    }\n",
       "</style>\n",
       "<table border=\"1\" class=\"dataframe\">\n",
       "  <thead>\n",
       "    <tr style=\"text-align: right;\">\n",
       "      <th></th>\n",
       "      <th>weekday</th>\n",
       "      <th>hour</th>\n",
       "      <th>customer_no</th>\n",
       "      <th>uniqueID</th>\n",
       "      <th>location</th>\n",
       "      <th>newlocation</th>\n",
       "    </tr>\n",
       "    <tr>\n",
       "      <th>timestamp</th>\n",
       "      <th></th>\n",
       "      <th></th>\n",
       "      <th></th>\n",
       "      <th></th>\n",
       "      <th></th>\n",
       "      <th></th>\n",
       "    </tr>\n",
       "  </thead>\n",
       "  <tbody>\n",
       "    <tr>\n",
       "      <th>2019-09-02 07:03:00</th>\n",
       "      <td>monday</td>\n",
       "      <td>7</td>\n",
       "      <td>1</td>\n",
       "      <td>monday1</td>\n",
       "      <td>dairy</td>\n",
       "      <td>checkout</td>\n",
       "    </tr>\n",
       "    <tr>\n",
       "      <th>2019-09-02 07:05:00</th>\n",
       "      <td>monday</td>\n",
       "      <td>7</td>\n",
       "      <td>1</td>\n",
       "      <td>monday1</td>\n",
       "      <td>checkout</td>\n",
       "      <td>fruit</td>\n",
       "    </tr>\n",
       "    <tr>\n",
       "      <th>2019-09-03 07:02:00</th>\n",
       "      <td>tuesday</td>\n",
       "      <td>7</td>\n",
       "      <td>1</td>\n",
       "      <td>tuesday1</td>\n",
       "      <td>fruit</td>\n",
       "      <td>drinks</td>\n",
       "    </tr>\n",
       "    <tr>\n",
       "      <th>2019-09-03 07:05:00</th>\n",
       "      <td>tuesday</td>\n",
       "      <td>7</td>\n",
       "      <td>1</td>\n",
       "      <td>tuesday1</td>\n",
       "      <td>drinks</td>\n",
       "      <td>checkout</td>\n",
       "    </tr>\n",
       "    <tr>\n",
       "      <th>2019-09-03 07:12:00</th>\n",
       "      <td>tuesday</td>\n",
       "      <td>7</td>\n",
       "      <td>1</td>\n",
       "      <td>tuesday1</td>\n",
       "      <td>checkout</td>\n",
       "      <td>fruit</td>\n",
       "    </tr>\n",
       "    <tr>\n",
       "      <th>...</th>\n",
       "      <td>...</td>\n",
       "      <td>...</td>\n",
       "      <td>...</td>\n",
       "      <td>...</td>\n",
       "      <td>...</td>\n",
       "      <td>...</td>\n",
       "    </tr>\n",
       "    <tr>\n",
       "      <th>2019-09-05 21:48:00</th>\n",
       "      <td>thursday</td>\n",
       "      <td>21</td>\n",
       "      <td>1533</td>\n",
       "      <td>thursday1533</td>\n",
       "      <td>dairy</td>\n",
       "      <td>fruit</td>\n",
       "    </tr>\n",
       "    <tr>\n",
       "      <th>2019-09-05 21:48:00</th>\n",
       "      <td>thursday</td>\n",
       "      <td>21</td>\n",
       "      <td>1534</td>\n",
       "      <td>thursday1534</td>\n",
       "      <td>fruit</td>\n",
       "      <td>checkout</td>\n",
       "    </tr>\n",
       "    <tr>\n",
       "      <th>2019-09-05 21:49:00</th>\n",
       "      <td>thursday</td>\n",
       "      <td>21</td>\n",
       "      <td>1534</td>\n",
       "      <td>thursday1534</td>\n",
       "      <td>checkout</td>\n",
       "      <td>spices</td>\n",
       "    </tr>\n",
       "    <tr>\n",
       "      <th>2019-09-05 21:48:00</th>\n",
       "      <td>thursday</td>\n",
       "      <td>21</td>\n",
       "      <td>1535</td>\n",
       "      <td>thursday1535</td>\n",
       "      <td>spices</td>\n",
       "      <td>checkout</td>\n",
       "    </tr>\n",
       "    <tr>\n",
       "      <th>2019-09-05 21:49:00</th>\n",
       "      <td>thursday</td>\n",
       "      <td>21</td>\n",
       "      <td>1535</td>\n",
       "      <td>thursday1535</td>\n",
       "      <td>checkout</td>\n",
       "      <td>NaN</td>\n",
       "    </tr>\n",
       "  </tbody>\n",
       "</table>\n",
       "<p>24877 rows × 6 columns</p>\n",
       "</div>"
      ],
      "text/plain": [
       "                      weekday  hour  customer_no      uniqueID  location  \\\n",
       "timestamp                                                                  \n",
       "2019-09-02 07:03:00    monday     7            1       monday1     dairy   \n",
       "2019-09-02 07:05:00    monday     7            1       monday1  checkout   \n",
       "2019-09-03 07:02:00   tuesday     7            1      tuesday1     fruit   \n",
       "2019-09-03 07:05:00   tuesday     7            1      tuesday1    drinks   \n",
       "2019-09-03 07:12:00   tuesday     7            1      tuesday1  checkout   \n",
       "...                       ...   ...          ...           ...       ...   \n",
       "2019-09-05 21:48:00  thursday    21         1533  thursday1533     dairy   \n",
       "2019-09-05 21:48:00  thursday    21         1534  thursday1534     fruit   \n",
       "2019-09-05 21:49:00  thursday    21         1534  thursday1534  checkout   \n",
       "2019-09-05 21:48:00  thursday    21         1535  thursday1535    spices   \n",
       "2019-09-05 21:49:00  thursday    21         1535  thursday1535  checkout   \n",
       "\n",
       "                    newlocation  \n",
       "timestamp                        \n",
       "2019-09-02 07:03:00    checkout  \n",
       "2019-09-02 07:05:00       fruit  \n",
       "2019-09-03 07:02:00      drinks  \n",
       "2019-09-03 07:05:00    checkout  \n",
       "2019-09-03 07:12:00       fruit  \n",
       "...                         ...  \n",
       "2019-09-05 21:48:00       fruit  \n",
       "2019-09-05 21:48:00    checkout  \n",
       "2019-09-05 21:49:00      spices  \n",
       "2019-09-05 21:48:00    checkout  \n",
       "2019-09-05 21:49:00         NaN  \n",
       "\n",
       "[24877 rows x 6 columns]"
      ]
     },
     "execution_count": 163,
     "metadata": {},
     "output_type": "execute_result"
    }
   ],
   "source": [
    "dt=df[['timestamp','weekday','hour','customer_no','location']]\n",
    "dt['uniqueID']=df['weekday']+df['customer_no'].astype(str)\n",
    "dt = dt.sort_values(['customer_no','timestamp'])\n",
    "dt.groupby('uniqueID')\n",
    "dt = dt.reindex(columns=['timestamp','weekday','hour','customer_no','uniqueID','location'])\n",
    "dt=dt.set_index('timestamp')\n",
    "dt['newlocation']=dt['location'].shift(-1).bfill()\n",
    "dt"
   ]
  },
  {
   "cell_type": "markdown",
   "id": "d124ee7b",
   "metadata": {},
   "source": [
    "trans=dt.reset_index()\n",
    "trans.drop(trans[trans.location =='checkout'].index, inplace=True)\n",
    "trans\n"
   ]
  },
  {
   "cell_type": "code",
   "execution_count": 164,
   "id": "08476ee8",
   "metadata": {},
   "outputs": [
    {
     "data": {
      "text/html": [
       "<div>\n",
       "<style scoped>\n",
       "    .dataframe tbody tr th:only-of-type {\n",
       "        vertical-align: middle;\n",
       "    }\n",
       "\n",
       "    .dataframe tbody tr th {\n",
       "        vertical-align: top;\n",
       "    }\n",
       "\n",
       "    .dataframe thead th {\n",
       "        text-align: right;\n",
       "    }\n",
       "</style>\n",
       "<table border=\"1\" class=\"dataframe\">\n",
       "  <thead>\n",
       "    <tr style=\"text-align: right;\">\n",
       "      <th>newlocation</th>\n",
       "      <th>checkout</th>\n",
       "      <th>dairy</th>\n",
       "      <th>drinks</th>\n",
       "      <th>fruit</th>\n",
       "      <th>spices</th>\n",
       "    </tr>\n",
       "    <tr>\n",
       "      <th>location</th>\n",
       "      <th></th>\n",
       "      <th></th>\n",
       "      <th></th>\n",
       "      <th></th>\n",
       "      <th></th>\n",
       "    </tr>\n",
       "  </thead>\n",
       "  <tbody>\n",
       "    <tr>\n",
       "      <th>checkout</th>\n",
       "      <td>0</td>\n",
       "      <td>2135</td>\n",
       "      <td>1133</td>\n",
       "      <td>2804</td>\n",
       "      <td>1344</td>\n",
       "    </tr>\n",
       "    <tr>\n",
       "      <th>dairy</th>\n",
       "      <td>1825</td>\n",
       "      <td>1</td>\n",
       "      <td>1046</td>\n",
       "      <td>889</td>\n",
       "      <td>918</td>\n",
       "    </tr>\n",
       "    <tr>\n",
       "      <th>drinks</th>\n",
       "      <td>2096</td>\n",
       "      <td>106</td>\n",
       "      <td>2</td>\n",
       "      <td>855</td>\n",
       "      <td>846</td>\n",
       "    </tr>\n",
       "    <tr>\n",
       "      <th>fruit</th>\n",
       "      <td>2555</td>\n",
       "      <td>1221</td>\n",
       "      <td>697</td>\n",
       "      <td>3</td>\n",
       "      <td>646</td>\n",
       "    </tr>\n",
       "    <tr>\n",
       "      <th>spices</th>\n",
       "      <td>941</td>\n",
       "      <td>1215</td>\n",
       "      <td>1027</td>\n",
       "      <td>571</td>\n",
       "      <td>0</td>\n",
       "    </tr>\n",
       "  </tbody>\n",
       "</table>\n",
       "</div>"
      ],
      "text/plain": [
       "newlocation  checkout  dairy  drinks  fruit  spices\n",
       "location                                           \n",
       "checkout            0   2135    1133   2804    1344\n",
       "dairy            1825      1    1046    889     918\n",
       "drinks           2096    106       2    855     846\n",
       "fruit            2555   1221     697      3     646\n",
       "spices            941   1215    1027    571       0"
      ]
     },
     "execution_count": 164,
     "metadata": {},
     "output_type": "execute_result"
    }
   ],
   "source": [
    "pd.crosstab(dt['location'],dt['newlocation'])"
   ]
  },
  {
   "cell_type": "code",
   "execution_count": null,
   "id": "29416a21",
   "metadata": {},
   "outputs": [],
   "source": []
  },
  {
   "cell_type": "code",
   "execution_count": 119,
   "id": "6cdaa0ec",
   "metadata": {},
   "outputs": [
    {
     "data": {
      "text/html": [
       "<div>\n",
       "<style scoped>\n",
       "    .dataframe tbody tr th:only-of-type {\n",
       "        vertical-align: middle;\n",
       "    }\n",
       "\n",
       "    .dataframe tbody tr th {\n",
       "        vertical-align: top;\n",
       "    }\n",
       "\n",
       "    .dataframe thead th {\n",
       "        text-align: right;\n",
       "    }\n",
       "</style>\n",
       "<table border=\"1\" class=\"dataframe\">\n",
       "  <thead>\n",
       "    <tr style=\"text-align: right;\">\n",
       "      <th></th>\n",
       "      <th>weekday</th>\n",
       "      <th>hour</th>\n",
       "      <th>customer_no</th>\n",
       "      <th>uniqueID</th>\n",
       "      <th>location</th>\n",
       "    </tr>\n",
       "    <tr>\n",
       "      <th>timestamp</th>\n",
       "      <th></th>\n",
       "      <th></th>\n",
       "      <th></th>\n",
       "      <th></th>\n",
       "      <th></th>\n",
       "    </tr>\n",
       "  </thead>\n",
       "  <tbody>\n",
       "    <tr>\n",
       "      <th>2019-09-06 07:00:00</th>\n",
       "      <td>friday</td>\n",
       "      <td>7</td>\n",
       "      <td>1</td>\n",
       "      <td>friday1</td>\n",
       "      <td>dairy</td>\n",
       "    </tr>\n",
       "    <tr>\n",
       "      <th>2019-09-06 07:04:00</th>\n",
       "      <td>friday</td>\n",
       "      <td>7</td>\n",
       "      <td>1</td>\n",
       "      <td>friday1</td>\n",
       "      <td>spices</td>\n",
       "    </tr>\n",
       "    <tr>\n",
       "      <th>2019-09-06 07:05:00</th>\n",
       "      <td>friday</td>\n",
       "      <td>7</td>\n",
       "      <td>1</td>\n",
       "      <td>friday1</td>\n",
       "      <td>checkout</td>\n",
       "    </tr>\n",
       "    <tr>\n",
       "      <th>2019-09-06 07:06:00</th>\n",
       "      <td>friday</td>\n",
       "      <td>7</td>\n",
       "      <td>10</td>\n",
       "      <td>friday10</td>\n",
       "      <td>fruit</td>\n",
       "    </tr>\n",
       "    <tr>\n",
       "      <th>2019-09-06 07:11:00</th>\n",
       "      <td>friday</td>\n",
       "      <td>7</td>\n",
       "      <td>10</td>\n",
       "      <td>friday10</td>\n",
       "      <td>checkout</td>\n",
       "    </tr>\n",
       "    <tr>\n",
       "      <th>...</th>\n",
       "      <td>...</td>\n",
       "      <td>...</td>\n",
       "      <td>...</td>\n",
       "      <td>...</td>\n",
       "      <td>...</td>\n",
       "    </tr>\n",
       "    <tr>\n",
       "      <th>2019-09-04 16:53:00</th>\n",
       "      <td>wednesday</td>\n",
       "      <td>16</td>\n",
       "      <td>998</td>\n",
       "      <td>wednesday998</td>\n",
       "      <td>dairy</td>\n",
       "    </tr>\n",
       "    <tr>\n",
       "      <th>2019-09-04 16:57:00</th>\n",
       "      <td>wednesday</td>\n",
       "      <td>16</td>\n",
       "      <td>998</td>\n",
       "      <td>wednesday998</td>\n",
       "      <td>fruit</td>\n",
       "    </tr>\n",
       "    <tr>\n",
       "      <th>2019-09-04 16:59:00</th>\n",
       "      <td>wednesday</td>\n",
       "      <td>16</td>\n",
       "      <td>998</td>\n",
       "      <td>wednesday998</td>\n",
       "      <td>checkout</td>\n",
       "    </tr>\n",
       "    <tr>\n",
       "      <th>2019-09-04 16:53:00</th>\n",
       "      <td>wednesday</td>\n",
       "      <td>16</td>\n",
       "      <td>999</td>\n",
       "      <td>wednesday999</td>\n",
       "      <td>fruit</td>\n",
       "    </tr>\n",
       "    <tr>\n",
       "      <th>2019-09-04 16:54:00</th>\n",
       "      <td>wednesday</td>\n",
       "      <td>16</td>\n",
       "      <td>999</td>\n",
       "      <td>wednesday999</td>\n",
       "      <td>checkout</td>\n",
       "    </tr>\n",
       "  </tbody>\n",
       "</table>\n",
       "<p>24877 rows × 5 columns</p>\n",
       "</div>"
      ],
      "text/plain": [
       "                       weekday  hour  customer_no      uniqueID  location\n",
       "timestamp                                                                \n",
       "2019-09-06 07:00:00     friday     7            1       friday1     dairy\n",
       "2019-09-06 07:04:00     friday     7            1       friday1    spices\n",
       "2019-09-06 07:05:00     friday     7            1       friday1  checkout\n",
       "2019-09-06 07:06:00     friday     7           10      friday10     fruit\n",
       "2019-09-06 07:11:00     friday     7           10      friday10  checkout\n",
       "...                        ...   ...          ...           ...       ...\n",
       "2019-09-04 16:53:00  wednesday    16          998  wednesday998     dairy\n",
       "2019-09-04 16:57:00  wednesday    16          998  wednesday998     fruit\n",
       "2019-09-04 16:59:00  wednesday    16          998  wednesday998  checkout\n",
       "2019-09-04 16:53:00  wednesday    16          999  wednesday999     fruit\n",
       "2019-09-04 16:54:00  wednesday    16          999  wednesday999  checkout\n",
       "\n",
       "[24877 rows x 5 columns]"
      ]
     },
     "execution_count": 119,
     "metadata": {},
     "output_type": "execute_result"
    }
   ],
   "source": [
    "dtt=df[['timestamp','weekday','hour','customer_no','location']]\n",
    "dtt['uniqueID']=dtt['weekday']+dtt['customer_no'].astype(str)\n",
    "dtt = dtt.sort_values(['uniqueID','timestamp'],ascending=True)\n",
    "dtt = dtt.reindex(columns=['timestamp','weekday','hour','customer_no','uniqueID','location'])\n",
    "dtt=dtt.set_index('timestamp')\n",
    "dtt.resample"
   ]
  },
  {
   "cell_type": "code",
   "execution_count": 128,
   "id": "01cb1604",
   "metadata": {},
   "outputs": [
    {
     "data": {
      "text/html": [
       "<div>\n",
       "<style scoped>\n",
       "    .dataframe tbody tr th:only-of-type {\n",
       "        vertical-align: middle;\n",
       "    }\n",
       "\n",
       "    .dataframe tbody tr th {\n",
       "        vertical-align: top;\n",
       "    }\n",
       "\n",
       "    .dataframe thead th {\n",
       "        text-align: right;\n",
       "    }\n",
       "</style>\n",
       "<table border=\"1\" class=\"dataframe\">\n",
       "  <thead>\n",
       "    <tr style=\"text-align: right;\">\n",
       "      <th></th>\n",
       "      <th></th>\n",
       "      <th>weekday</th>\n",
       "      <th>hour</th>\n",
       "      <th>customer_no</th>\n",
       "      <th>location</th>\n",
       "    </tr>\n",
       "    <tr>\n",
       "      <th>uniqueID</th>\n",
       "      <th>timestamp</th>\n",
       "      <th></th>\n",
       "      <th></th>\n",
       "      <th></th>\n",
       "      <th></th>\n",
       "    </tr>\n",
       "  </thead>\n",
       "  <tbody>\n",
       "    <tr>\n",
       "      <th rowspan=\"5\" valign=\"top\">friday1</th>\n",
       "      <th>2019-09-06 07:00:00</th>\n",
       "      <td>friday</td>\n",
       "      <td>7</td>\n",
       "      <td>1</td>\n",
       "      <td>dairy</td>\n",
       "    </tr>\n",
       "    <tr>\n",
       "      <th>2019-09-06 07:01:00</th>\n",
       "      <td>friday</td>\n",
       "      <td>7</td>\n",
       "      <td>1</td>\n",
       "      <td>dairy</td>\n",
       "    </tr>\n",
       "    <tr>\n",
       "      <th>2019-09-06 07:02:00</th>\n",
       "      <td>friday</td>\n",
       "      <td>7</td>\n",
       "      <td>1</td>\n",
       "      <td>dairy</td>\n",
       "    </tr>\n",
       "    <tr>\n",
       "      <th>2019-09-06 07:03:00</th>\n",
       "      <td>friday</td>\n",
       "      <td>7</td>\n",
       "      <td>1</td>\n",
       "      <td>dairy</td>\n",
       "    </tr>\n",
       "    <tr>\n",
       "      <th>2019-09-06 07:04:00</th>\n",
       "      <td>friday</td>\n",
       "      <td>7</td>\n",
       "      <td>1</td>\n",
       "      <td>spices</td>\n",
       "    </tr>\n",
       "    <tr>\n",
       "      <th>...</th>\n",
       "      <th>...</th>\n",
       "      <td>...</td>\n",
       "      <td>...</td>\n",
       "      <td>...</td>\n",
       "      <td>...</td>\n",
       "    </tr>\n",
       "    <tr>\n",
       "      <th rowspan=\"3\" valign=\"top\">wednesday998</th>\n",
       "      <th>2019-09-04 16:57:00</th>\n",
       "      <td>wednesday</td>\n",
       "      <td>16</td>\n",
       "      <td>998</td>\n",
       "      <td>fruit</td>\n",
       "    </tr>\n",
       "    <tr>\n",
       "      <th>2019-09-04 16:58:00</th>\n",
       "      <td>wednesday</td>\n",
       "      <td>16</td>\n",
       "      <td>998</td>\n",
       "      <td>fruit</td>\n",
       "    </tr>\n",
       "    <tr>\n",
       "      <th>2019-09-04 16:59:00</th>\n",
       "      <td>wednesday</td>\n",
       "      <td>16</td>\n",
       "      <td>998</td>\n",
       "      <td>checkout</td>\n",
       "    </tr>\n",
       "    <tr>\n",
       "      <th rowspan=\"2\" valign=\"top\">wednesday999</th>\n",
       "      <th>2019-09-04 16:53:00</th>\n",
       "      <td>wednesday</td>\n",
       "      <td>16</td>\n",
       "      <td>999</td>\n",
       "      <td>fruit</td>\n",
       "    </tr>\n",
       "    <tr>\n",
       "      <th>2019-09-04 16:54:00</th>\n",
       "      <td>wednesday</td>\n",
       "      <td>16</td>\n",
       "      <td>999</td>\n",
       "      <td>checkout</td>\n",
       "    </tr>\n",
       "  </tbody>\n",
       "</table>\n",
       "<p>53903 rows × 4 columns</p>\n",
       "</div>"
      ],
      "text/plain": [
       "                                    weekday  hour  customer_no  location\n",
       "uniqueID     timestamp                                                  \n",
       "friday1      2019-09-06 07:00:00     friday     7            1     dairy\n",
       "             2019-09-06 07:01:00     friday     7            1     dairy\n",
       "             2019-09-06 07:02:00     friday     7            1     dairy\n",
       "             2019-09-06 07:03:00     friday     7            1     dairy\n",
       "             2019-09-06 07:04:00     friday     7            1    spices\n",
       "...                                     ...   ...          ...       ...\n",
       "wednesday998 2019-09-04 16:57:00  wednesday    16          998     fruit\n",
       "             2019-09-04 16:58:00  wednesday    16          998     fruit\n",
       "             2019-09-04 16:59:00  wednesday    16          998  checkout\n",
       "wednesday999 2019-09-04 16:53:00  wednesday    16          999     fruit\n",
       "             2019-09-04 16:54:00  wednesday    16          999  checkout\n",
       "\n",
       "[53903 rows x 4 columns]"
      ]
     },
     "execution_count": 128,
     "metadata": {},
     "output_type": "execute_result"
    }
   ],
   "source": [
    "dtt_resampled=dtt.groupby('uniqueID').resample('1T').ffill()\n",
    "dtt_resampled.drop(columns=['uniqueID'], inplace=True)\n",
    "dtt_resampled\n"
   ]
  },
  {
   "cell_type": "code",
   "execution_count": 130,
   "id": "6abb3c79",
   "metadata": {},
   "outputs": [
    {
     "data": {
      "text/html": [
       "<div>\n",
       "<style scoped>\n",
       "    .dataframe tbody tr th:only-of-type {\n",
       "        vertical-align: middle;\n",
       "    }\n",
       "\n",
       "    .dataframe tbody tr th {\n",
       "        vertical-align: top;\n",
       "    }\n",
       "\n",
       "    .dataframe thead th {\n",
       "        text-align: right;\n",
       "    }\n",
       "</style>\n",
       "<table border=\"1\" class=\"dataframe\">\n",
       "  <thead>\n",
       "    <tr style=\"text-align: right;\">\n",
       "      <th></th>\n",
       "      <th></th>\n",
       "      <th>weekday</th>\n",
       "      <th>hour</th>\n",
       "      <th>customer_no</th>\n",
       "      <th>location</th>\n",
       "      <th>next_location</th>\n",
       "    </tr>\n",
       "    <tr>\n",
       "      <th>uniqueID</th>\n",
       "      <th>timestamp</th>\n",
       "      <th></th>\n",
       "      <th></th>\n",
       "      <th></th>\n",
       "      <th></th>\n",
       "      <th></th>\n",
       "    </tr>\n",
       "  </thead>\n",
       "  <tbody>\n",
       "    <tr>\n",
       "      <th rowspan=\"5\" valign=\"top\">friday1</th>\n",
       "      <th>2019-09-06 07:00:00</th>\n",
       "      <td>friday</td>\n",
       "      <td>7</td>\n",
       "      <td>1</td>\n",
       "      <td>dairy</td>\n",
       "      <td>dairy</td>\n",
       "    </tr>\n",
       "    <tr>\n",
       "      <th>2019-09-06 07:01:00</th>\n",
       "      <td>friday</td>\n",
       "      <td>7</td>\n",
       "      <td>1</td>\n",
       "      <td>dairy</td>\n",
       "      <td>dairy</td>\n",
       "    </tr>\n",
       "    <tr>\n",
       "      <th>2019-09-06 07:02:00</th>\n",
       "      <td>friday</td>\n",
       "      <td>7</td>\n",
       "      <td>1</td>\n",
       "      <td>dairy</td>\n",
       "      <td>dairy</td>\n",
       "    </tr>\n",
       "    <tr>\n",
       "      <th>2019-09-06 07:03:00</th>\n",
       "      <td>friday</td>\n",
       "      <td>7</td>\n",
       "      <td>1</td>\n",
       "      <td>dairy</td>\n",
       "      <td>spices</td>\n",
       "    </tr>\n",
       "    <tr>\n",
       "      <th>2019-09-06 07:04:00</th>\n",
       "      <td>friday</td>\n",
       "      <td>7</td>\n",
       "      <td>1</td>\n",
       "      <td>spices</td>\n",
       "      <td>checkout</td>\n",
       "    </tr>\n",
       "    <tr>\n",
       "      <th>...</th>\n",
       "      <th>...</th>\n",
       "      <td>...</td>\n",
       "      <td>...</td>\n",
       "      <td>...</td>\n",
       "      <td>...</td>\n",
       "      <td>...</td>\n",
       "    </tr>\n",
       "    <tr>\n",
       "      <th rowspan=\"3\" valign=\"top\">wednesday998</th>\n",
       "      <th>2019-09-04 16:57:00</th>\n",
       "      <td>wednesday</td>\n",
       "      <td>16</td>\n",
       "      <td>998</td>\n",
       "      <td>fruit</td>\n",
       "      <td>fruit</td>\n",
       "    </tr>\n",
       "    <tr>\n",
       "      <th>2019-09-04 16:58:00</th>\n",
       "      <td>wednesday</td>\n",
       "      <td>16</td>\n",
       "      <td>998</td>\n",
       "      <td>fruit</td>\n",
       "      <td>checkout</td>\n",
       "    </tr>\n",
       "    <tr>\n",
       "      <th>2019-09-04 16:59:00</th>\n",
       "      <td>wednesday</td>\n",
       "      <td>16</td>\n",
       "      <td>998</td>\n",
       "      <td>checkout</td>\n",
       "      <td>checkout</td>\n",
       "    </tr>\n",
       "    <tr>\n",
       "      <th rowspan=\"2\" valign=\"top\">wednesday999</th>\n",
       "      <th>2019-09-04 16:53:00</th>\n",
       "      <td>wednesday</td>\n",
       "      <td>16</td>\n",
       "      <td>999</td>\n",
       "      <td>fruit</td>\n",
       "      <td>checkout</td>\n",
       "    </tr>\n",
       "    <tr>\n",
       "      <th>2019-09-04 16:54:00</th>\n",
       "      <td>wednesday</td>\n",
       "      <td>16</td>\n",
       "      <td>999</td>\n",
       "      <td>checkout</td>\n",
       "      <td>checkout</td>\n",
       "    </tr>\n",
       "  </tbody>\n",
       "</table>\n",
       "<p>53903 rows × 5 columns</p>\n",
       "</div>"
      ],
      "text/plain": [
       "                                    weekday  hour  customer_no  location  \\\n",
       "uniqueID     timestamp                                                     \n",
       "friday1      2019-09-06 07:00:00     friday     7            1     dairy   \n",
       "             2019-09-06 07:01:00     friday     7            1     dairy   \n",
       "             2019-09-06 07:02:00     friday     7            1     dairy   \n",
       "             2019-09-06 07:03:00     friday     7            1     dairy   \n",
       "             2019-09-06 07:04:00     friday     7            1    spices   \n",
       "...                                     ...   ...          ...       ...   \n",
       "wednesday998 2019-09-04 16:57:00  wednesday    16          998     fruit   \n",
       "             2019-09-04 16:58:00  wednesday    16          998     fruit   \n",
       "             2019-09-04 16:59:00  wednesday    16          998  checkout   \n",
       "wednesday999 2019-09-04 16:53:00  wednesday    16          999     fruit   \n",
       "             2019-09-04 16:54:00  wednesday    16          999  checkout   \n",
       "\n",
       "                                 next_location  \n",
       "uniqueID     timestamp                          \n",
       "friday1      2019-09-06 07:00:00         dairy  \n",
       "             2019-09-06 07:01:00         dairy  \n",
       "             2019-09-06 07:02:00         dairy  \n",
       "             2019-09-06 07:03:00        spices  \n",
       "             2019-09-06 07:04:00      checkout  \n",
       "...                                        ...  \n",
       "wednesday998 2019-09-04 16:57:00         fruit  \n",
       "             2019-09-04 16:58:00      checkout  \n",
       "             2019-09-04 16:59:00      checkout  \n",
       "wednesday999 2019-09-04 16:53:00      checkout  \n",
       "             2019-09-04 16:54:00      checkout  \n",
       "\n",
       "[53903 rows x 5 columns]"
      ]
     },
     "execution_count": 130,
     "metadata": {},
     "output_type": "execute_result"
    }
   ],
   "source": [
    "\n",
    "dtt_resampled['next_location']= dtt_resampled.groupby('uniqueID')['location'].shift(-1)\n",
    "dtt_resampled['next_location'].fillna(value='checkout', inplace=True)\n",
    "dtt_resampled"
   ]
  },
  {
   "cell_type": "code",
   "execution_count": null,
   "id": "24e799a0",
   "metadata": {},
   "outputs": [],
   "source": []
  },
  {
   "cell_type": "code",
   "execution_count": 170,
   "id": "6521697d",
   "metadata": {},
   "outputs": [
    {
     "data": {
      "text/html": [
       "<div>\n",
       "<style scoped>\n",
       "    .dataframe tbody tr th:only-of-type {\n",
       "        vertical-align: middle;\n",
       "    }\n",
       "\n",
       "    .dataframe tbody tr th {\n",
       "        vertical-align: top;\n",
       "    }\n",
       "\n",
       "    .dataframe thead th {\n",
       "        text-align: right;\n",
       "    }\n",
       "</style>\n",
       "<table border=\"1\" class=\"dataframe\">\n",
       "  <thead>\n",
       "    <tr style=\"text-align: right;\">\n",
       "      <th>next_location</th>\n",
       "      <th>checkout</th>\n",
       "      <th>dairy</th>\n",
       "      <th>drinks</th>\n",
       "      <th>fruit</th>\n",
       "      <th>spices</th>\n",
       "    </tr>\n",
       "    <tr>\n",
       "      <th>location</th>\n",
       "      <th></th>\n",
       "      <th></th>\n",
       "      <th></th>\n",
       "      <th></th>\n",
       "      <th></th>\n",
       "    </tr>\n",
       "  </thead>\n",
       "  <tbody>\n",
       "    <tr>\n",
       "      <th>checkout</th>\n",
       "      <td>1.000000</td>\n",
       "      <td>0.000000</td>\n",
       "      <td>0.000000</td>\n",
       "      <td>0.000000</td>\n",
       "      <td>0.000000</td>\n",
       "    </tr>\n",
       "    <tr>\n",
       "      <th>dairy</th>\n",
       "      <td>0.103466</td>\n",
       "      <td>0.736750</td>\n",
       "      <td>0.058569</td>\n",
       "      <td>0.049848</td>\n",
       "      <td>0.051367</td>\n",
       "    </tr>\n",
       "    <tr>\n",
       "      <th>drinks</th>\n",
       "      <td>0.215710</td>\n",
       "      <td>0.010899</td>\n",
       "      <td>0.598499</td>\n",
       "      <td>0.087909</td>\n",
       "      <td>0.086983</td>\n",
       "    </tr>\n",
       "    <tr>\n",
       "      <th>fruit</th>\n",
       "      <td>0.201605</td>\n",
       "      <td>0.095924</td>\n",
       "      <td>0.054847</td>\n",
       "      <td>0.596947</td>\n",
       "      <td>0.050677</td>\n",
       "    </tr>\n",
       "    <tr>\n",
       "      <th>spices</th>\n",
       "      <td>0.150685</td>\n",
       "      <td>0.193214</td>\n",
       "      <td>0.163109</td>\n",
       "      <td>0.090953</td>\n",
       "      <td>0.402039</td>\n",
       "    </tr>\n",
       "  </tbody>\n",
       "</table>\n",
       "</div>"
      ],
      "text/plain": [
       "next_location  checkout     dairy    drinks     fruit    spices\n",
       "location                                                       \n",
       "checkout       1.000000  0.000000  0.000000  0.000000  0.000000\n",
       "dairy          0.103466  0.736750  0.058569  0.049848  0.051367\n",
       "drinks         0.215710  0.010899  0.598499  0.087909  0.086983\n",
       "fruit          0.201605  0.095924  0.054847  0.596947  0.050677\n",
       "spices         0.150685  0.193214  0.163109  0.090953  0.402039"
      ]
     },
     "execution_count": 170,
     "metadata": {},
     "output_type": "execute_result"
    }
   ],
   "source": [
    "P=pd.crosstab(dtt_resampled['location'],dtt_resampled['next_location'], normalize=0)\n",
    "P"
   ]
  },
  {
   "cell_type": "code",
   "execution_count": 204,
   "id": "07ccac57",
   "metadata": {},
   "outputs": [
    {
     "data": {
      "text/plain": [
       "<AxesSubplot:xlabel='next_location', ylabel='location'>"
      ]
     },
     "execution_count": 204,
     "metadata": {},
     "output_type": "execute_result"
    },
    {
     "data": {
      "image/png": "[encoded data removed]",
      "text/plain": [
       "<Figure size 1440x720 with 2 Axes>"
      ]
     },
     "metadata": {
      "needs_background": "light"
     },
     "output_type": "display_data"
    }
   ],
   "source": [
    "plt.figure(figsize=(20,10))\n",
    "sns.heatmap(P,annot=True)"
   ]
  },
  {
   "cell_type": "code",
   "execution_count": null,
   "id": "e948b81f",
   "metadata": {},
   "outputs": [],
   "source": []
  },
  {
   "cell_type": "code",
   "execution_count": 184,
   "id": "3452c8bb",
   "metadata": {},
   "outputs": [],
   "source": [
    "np.random.seed(42)\n",
    "state= 'dairy'\n",
    "sequence = []\n",
    "for i in range(20):\n",
    "    state = np.random.choice(['dairy','drinks','fruit','spices','checkout'], p=P.loc[state])\n",
    "    sequence.append(state)"
   ]
  },
  {
   "cell_type": "code",
   "execution_count": 185,
   "id": "8cf75a5a",
   "metadata": {},
   "outputs": [
    {
     "data": {
      "text/plain": [
       "['drinks',\n",
       " 'checkout',\n",
       " 'dairy',\n",
       " 'drinks',\n",
       " 'dairy',\n",
       " 'drinks',\n",
       " 'dairy',\n",
       " 'fruit',\n",
       " 'spices',\n",
       " 'checkout',\n",
       " 'dairy',\n",
       " 'checkout',\n",
       " 'dairy',\n",
       " 'drinks',\n",
       " 'dairy',\n",
       " 'drinks',\n",
       " 'fruit',\n",
       " 'spices',\n",
       " 'fruit',\n",
       " 'drinks']"
      ]
     },
     "execution_count": 185,
     "metadata": {},
     "output_type": "execute_result"
    }
   ],
   "source": [
    "sequence"
   ]
  },
  {
   "cell_type": "code",
   "execution_count": null,
   "id": "cbb0ef96",
   "metadata": {},
   "outputs": [],
   "source": []
  },
  {
   "cell_type": "code",
   "execution_count": null,
   "id": "f8e6a333",
   "metadata": {},
   "outputs": [],
   "source": []
  },
  {
   "cell_type": "code",
   "execution_count": null,
   "id": "d1110174",
   "metadata": {},
   "outputs": [],
   "source": []
  },
  {
   "cell_type": "code",
   "execution_count": null,
   "id": "e8935aa6",
   "metadata": {},
   "outputs": [],
   "source": []
  },
  {
   "cell_type": "code",
   "execution_count": null,
   "id": "52a9f935",
   "metadata": {},
   "outputs": [],
   "source": []
  },
  {
   "cell_type": "code",
   "execution_count": null,
   "id": "d7b34d11",
   "metadata": {},
   "outputs": [],
   "source": []
  }
 ],
 "metadata": {
  "kernelspec": {
   "display_name": "Python 3 (ipykernel)",
   "language": "python",
   "name": "python3"
  },
  "language_info": {
   "codemirror_mode": {
    "name": "ipython",
    "version": 3
   },
   "file_extension": ".py",
   "mimetype": "text/x-python",
   "name": "python",
   "nbconvert_exporter": "python",
   "pygments_lexer": "ipython3",
   "version": "3.9.12"
  }
 },
 "nbformat": 4,
 "nbformat_minor": 5
}
