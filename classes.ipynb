{
 "cells": [
  {
   "cell_type": "markdown",
   "metadata": {},
   "source": [
    "## Class Customer"
   ]
  },
  {
   "cell_type": "code",
   "execution_count": null,
   "metadata": {},
   "outputs": [],
   "source": [
    "class Customer:\n",
    "    def __init__(self, name, state, checkout_time, budget=100):\n",
    "        self.name = name\n",
    "        self.state = state\n",
    "        self.checkout_time = checkout_time\n",
    "        self.budget = budget\n",
    "\n",
    "    def __repr__(self):\n",
    "        return f'<Customer {self.name} is in {self.state}>'\n",
    "\n",
    "    def next_state(self):\n",
    "        self.state = random.choice(['spices', 'drinks', 'fruit', 'dairy', 'checkout'])\n",
    "        return<transition.probability>\n",
    "\n",
    "    def checkout(self):\n",
    "        if checkout = True\n",
    "            print(f\"{self.name}checked out at{self.checkout_time}\")\n",
    "        else (f\"{self.name}checked out during closing\")\n",
    "\n",
    "    #MCMC (Replace in the beginning)\n",
    "    def __init__(self, name, state, transition_probs, budget=100):\n",
    "        self.name = name\n",
    "        self.state = state\n",
    "        self.transition_probs = transition_probs\n",
    "        self.budget = budget\n",
    "    \n",
    "    def is_active(self):\n",
    "       return <boolean>"
   ]
  },
  {
   "cell_type": "code",
   "execution_count": null,
   "metadata": {},
   "outputs": [],
   "source": [
    "for c in uniqueID return:\n",
    "    cust+1 = Customer(\"<uniqueID>\", \"<location>\", x)\n",
    "\n",
    "\n",
    "\n",
    "cust1 = Customer(\"<uniqueID>\", \"<location>\", x)\n",
    "cust2 = Customer(\"<uniqueID>\", \"<location>\", x)"
   ]
  },
  {
   "cell_type": "code",
   "execution_count": null,
   "metadata": {},
   "outputs": [],
   "source": [
    "cust1.next_state()"
   ]
  },
  {
   "cell_type": "markdown",
   "metadata": {},
   "source": [
    "## Class Supermarket"
   ]
  },
  {
   "cell_type": "code",
   "execution_count": null,
   "metadata": {},
   "outputs": [],
   "source": [
    "class Supermarket:\n",
    "    def __init__(self, sections, open_time, closing_time, sections, customers_per_day, customers_in_section, revenue)\n",
    "    self.sections = sections\n",
    "    self.open_time = open_time\n",
    "    self.closing_time = closing_time\n",
    "    self.customers_per_day = uniqueID\n",
    "    self.customers_in_section = customers_in_section\n",
    "    self.revenue = revenue\n",
    "    \n",
    "\n",
    "\n",
    "\n",
    "class Supermarket:\n",
    "    def __init__(self):\n",
    "        self.customers = []\n",
    "\n",
    "doodl = Supermarket()\n",
    "for _ in range(<uniqueID.count()>):\n",
    "    doodl.customers.append(Customer())\n",
    "        "
   ]
  }
 ],
 "metadata": {
  "interpreter": {
   "hash": "e3b62f9b183a1ef224302b1857adf3030f4486ff5a39d7474993acde152fbed1"
  },
  "kernelspec": {
   "display_name": "Python 3.9.12 ('base')",
   "language": "python",
   "name": "python3"
  },
  "language_info": {
   "codemirror_mode": {
    "name": "ipython",
    "version": 3
   },
   "file_extension": ".py",
   "mimetype": "text/x-python",
   "name": "python",
   "nbconvert_exporter": "python",
   "pygments_lexer": "ipython3",
   "version": "3.9.12"
  },
  "orig_nbformat": 4
 },
 "nbformat": 4,
 "nbformat_minor": 2
}
